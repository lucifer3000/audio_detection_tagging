{
  "nbformat": 4,
  "nbformat_minor": 0,
  "metadata": {
    "colab": {
      "name": "MLSP_Project.ipynb",
      "provenance": [],
      "collapsed_sections": []
    },
    "kernelspec": {
      "name": "python3",
      "display_name": "Python 3"
    },
    "language_info": {
      "name": "python"
    }
  },
  "cells": [
    {
      "cell_type": "code",
      "metadata": {
        "colab": {
          "base_uri": "https://localhost:8080/"
        },
        "id": "a54r4HNx6PCN",
        "outputId": "13997d44-e5b3-4f01-b69d-fb0e4e383ec3"
      },
      "source": [
        "from google.colab import drive\n",
        "drive.mount('/content/drive')"
      ],
      "execution_count": null,
      "outputs": [
        {
          "output_type": "stream",
          "name": "stdout",
          "text": [
            "Mounted at /content/drive\n"
          ]
        }
      ]
    },
    {
      "cell_type": "code",
      "metadata": {
        "id": "r-HBSPa65LKI"
      },
      "source": [
        "'''\n",
        "Load libraries to be used in code implementation\n",
        "'''\n",
        "import os\n",
        "import pickle\n",
        "import numpy as np\n",
        "import matplotlib.pyplot as plt\n",
        "import librosa\n",
        "import librosa.display\n",
        "import glob\n",
        "from csv import writer\n",
        "import matplotlib.pyplot as plt\n",
        "import tensorflow as tf\n",
        "from scipy.stats import multivariate_normal\n",
        "from tensorflow.keras.layers import Conv1D,LSTM, Dense, Dropout,MaxPooling1D,Flatten"
      ],
      "execution_count": null,
      "outputs": []
    },
    {
      "cell_type": "markdown",
      "metadata": {
        "id": "dRPEISsLFAHf"
      },
      "source": [
        "---\n",
        "\n",
        "\n",
        "**I. DATASET**<br>\n",
        "Dataset Preparation & Feature Extraction\n",
        "\n",
        "\n",
        "---"
      ]
    },
    {
      "cell_type": "code",
      "metadata": {
        "id": "_vziRkDw5TkL"
      },
      "source": [
        "Fs = 16000\n",
        "\n",
        "def load_audio(filename, Fs = 16000):\n",
        "    '''\n",
        "    Takes as input .wav filename and returns the floating point time series loaded using librosa\n",
        "    Inputs: \n",
        "        filename: (str) filename\n",
        "        Fs: (int) sampling rate in Hz\n",
        "    Output: \n",
        "        x: 1D np array \n",
        "    '''\n",
        "    x, sr = librosa.load(filename, sr = Fs) \n",
        "    \n",
        "    return x"
      ],
      "execution_count": null,
      "outputs": []
    },
    {
      "cell_type": "code",
      "metadata": {
        "id": "JRFPreqi5atg"
      },
      "source": [
        "def readDir(dirname, cat, Fs = 16000):\n",
        "    '''\n",
        "    Reads .wav files from directory and loads them using load_audio(); returns array of loaded audio files\n",
        "                    \n",
        "    Each audio file is split into 0.1s audio segments\n",
        "    Inputs:\n",
        "        dirname : (str) name of directory contatining . files\n",
        "        cat : (int) segment of filename to be used to load specific .wav files\n",
        "    Output:\n",
        "        x: np array of shape (Nclips, Nsamples) Nsamples correspond to 0.1s length. Zero-padding done for shorter clips. \n",
        "\n",
        "    '''  \n",
        "    path = dirname + '/' + cat\n",
        "    files = glob.glob(path)\n",
        "    \n",
        "    x = []\n",
        "    for file in files:\n",
        "        audio = load_audio(file, Fs)\n",
        "        \n",
        "        #code to create 0.1s segments\n",
        "        size = int(0.1*Fs)\n",
        "        no_segments = audio.shape[0]//size\n",
        "        for i in range(no_segments+1):\n",
        "            seg = audio[i*size:(i+1)*size]\n",
        "            if seg.shape[0]<size:\n",
        "                seg = np.pad(seg, (0,size-seg.shape[0]))\n",
        "            x.append(seg)\n",
        "    \n",
        "    x = np.array(x)\n",
        "\n",
        "    return x "
      ],
      "execution_count": null,
      "outputs": []
    },
    {
      "cell_type": "code",
      "metadata": {
        "colab": {
          "base_uri": "https://localhost:8080/"
        },
        "id": "14i93Ahx59A1",
        "outputId": "af1c9554-c1a5-444b-823a-9d0d9372ba50"
      },
      "source": [
        "#load training data using readDir() \n",
        "speech = readDir('drive/MyDrive/Training Data - MLSP', cat = 'sp*.wav')\n",
        "music = readDir('drive/MyDrive/Training Data - MLSP', cat = 'mu*.wav')\n",
        "silence = readDir('drive/MyDrive/Training Data - MLSP', cat = 'si*.wav')\n",
        "print(speech.shape)\n",
        "print(music.shape)\n",
        "print(silence.shape)"
      ],
      "execution_count": null,
      "outputs": [
        {
          "output_type": "stream",
          "name": "stdout",
          "text": [
            "(3590, 1600)\n",
            "(3844, 1600)\n",
            "(2408, 1600)\n"
          ]
        }
      ]
    },
    {
      "cell_type": "code",
      "metadata": {
        "colab": {
          "base_uri": "https://localhost:8080/",
          "height": 270
        },
        "id": "lkFcSGT36ALl",
        "outputId": "1313a708-1706-42fb-eb4d-0266861ee8b0"
      },
      "source": [
        "'''\n",
        "Visualize the spectrogram of the loaded audio files\n",
        "'''\n",
        "n_fft = 1024\n",
        "hop_length = 512\n",
        "win_length = 1024\n",
        "\n",
        "fig, ax = plt.subplots(nrows=6)\n",
        "\n",
        "librosa.display.waveplot(speech[0],sr=Fs, x_axis='time', color='purple',offset=0.0,ax=ax[0])\n",
        "X = np.abs(librosa.stft(speech[0], n_fft = n_fft, hop_length = hop_length, win_length = win_length, window='hann', dtype = np.complex128))\n",
        "X = librosa.power_to_db(X**2,ref=np.max)\n",
        "librosa.display.specshow(X,sr=Fs, cmap='cool',hop_length=hop_length,ax=ax[1])\n",
        "\n",
        "librosa.display.waveplot(music[0],sr=Fs, x_axis='time', color='purple',offset=0.0,ax=ax[2])\n",
        "X = np.abs(librosa.stft(music[0], n_fft = n_fft, hop_length = hop_length, win_length = win_length, window='hann', dtype = np.complex128))\n",
        "X = librosa.power_to_db(X**2,ref=np.max)\n",
        "librosa.display.specshow(X,sr=Fs, cmap='cool',hop_length=hop_length,ax=ax[3])\n",
        "\n",
        "librosa.display.waveplot(silence[0],sr=Fs, x_axis='time', color='purple',offset=0.0,ax=ax[4])\n",
        "X = np.abs(librosa.stft(silence[0], n_fft = n_fft, hop_length = hop_length, win_length = win_length, window='hann', dtype = np.complex128))\n",
        "X = librosa.power_to_db(X**2,ref=np.max)\n",
        "librosa.display.specshow(X,sr=Fs, cmap='cool',hop_length=hop_length,ax=ax[5])"
      ],
      "execution_count": null,
      "outputs": [
        {
          "output_type": "execute_result",
          "data": {
            "text/plain": [
              "<matplotlib.collections.QuadMesh at 0x7fbaf189c810>"
            ]
          },
          "metadata": {},
          "execution_count": 6
        },
        {
          "output_type": "display_data",
          "data": {
            "image/png": "[encoded data removed]",
            "text/plain": [
              "<Figure size 432x288 with 6 Axes>"
            ]
          },
          "metadata": {
            "needs_background": "light"
          }
        }
      ]
    },
    {
      "cell_type": "code",
      "metadata": {
        "id": "J7U6DYoTGtQ-"
      },
      "source": [
        "def calc_spec(x):\n",
        "  '''\n",
        "  Calculates power spectrogram of audio file\n",
        "  Inputs:\n",
        "      x : 1D np array of loaded audio time series data\n",
        "  Output:\n",
        "      X : 2D np array of power spectrogram\n",
        "  '''\n",
        "  n_fft = 1024\n",
        "  hop_length = 512\n",
        "  win_length = 1024\n",
        "  S = np.abs(librosa.stft(x, n_fft = n_fft, hop_length = hop_length, win_length = win_length, window='hann', dtype = np.complex128))  #complex256\n",
        "  X = librosa.power_to_db(S**2,ref=np.max)\n",
        "  return X"
      ],
      "execution_count": null,
      "outputs": []
    },
    {
      "cell_type": "code",
      "metadata": {
        "id": "cQ-B3J5553Pn"
      },
      "source": [
        "def audio2mfcc(x, n_mfcc = 13, Fs = 16000):    \n",
        "    '''\n",
        "    Computes Mel-frequency cepstral coefficients (MFCCs) from power spectrogram of audio file\n",
        "    Inputs:\n",
        "        x: np array of shape (Nclips, shape of power spectrogram)\n",
        "        Fs: (int) sampling rate in Hz\n",
        "        n_mfcc: (int) number of MFCC coefficients to be stored\n",
        "    Output:\n",
        "        X: (np array) MFCC sequence of each of the Nclips of power spectrograms\n",
        "    '''\n",
        "    X = []\n",
        "    for i in range(x.shape[0]):\n",
        "      S = calc_spec(x[i])\n",
        "      mfcc = librosa.feature.mfcc(S = S, sr = Fs, n_mfcc = n_mfcc)\n",
        "      X.append(mfcc)\n",
        "  \n",
        "    X = np.array(X)    \n",
        "\n",
        "    return X "
      ],
      "execution_count": null,
      "outputs": []
    },
    {
      "cell_type": "code",
      "metadata": {
        "colab": {
          "base_uri": "https://localhost:8080/",
          "height": 215
        },
        "id": "cbYtWomnGWsd",
        "outputId": "ce4cf88c-91ee-4994-c103-991d1ebe467f"
      },
      "source": [
        "#calculate MFCC features for each audio file in the dataset\n",
        "sp_mfcc = audio2mfcc(speech)\n",
        "mu_mfcc = audio2mfcc(music)\n",
        "si_mfcc = audio2mfcc(silence)\n",
        "print(sp_mfcc.shape)\n",
        "print(mu_mfcc.shape)\n",
        "print(si_mfcc.shape)\n",
        "\n",
        "fig,ax = plt.subplots(figsize = (10,2),ncols = 3)\n",
        "librosa.display.specshow(sp_mfcc[0],sr=Fs,ax=ax[0])\n",
        "librosa.display.specshow(mu_mfcc[0],sr=Fs,ax=ax[1])\n",
        "librosa.display.specshow(si_mfcc[0],sr=Fs,ax=ax[2])"
      ],
      "execution_count": null,
      "outputs": [
        {
          "output_type": "stream",
          "name": "stdout",
          "text": [
            "(3590, 13, 4)\n",
            "(3844, 13, 4)\n",
            "(2408, 13, 4)\n"
          ]
        },
        {
          "output_type": "execute_result",
          "data": {
            "text/plain": [
              "<matplotlib.collections.QuadMesh at 0x7fbaf11b39d0>"
            ]
          },
          "metadata": {},
          "execution_count": 16
        },
        {
          "output_type": "display_data",
          "data": {
            "image/png": "[encoded data removed]",
            "text/plain": [
              "<Figure size 720x144 with 3 Axes>"
            ]
          },
          "metadata": {}
        }
      ]
    },
    {
      "cell_type": "code",
      "metadata": {
        "colab": {
          "base_uri": "https://localhost:8080/"
        },
        "id": "uy7H5vo-KKjm",
        "outputId": "3c96c231-d59d-4403-9e82-3890c783d952"
      },
      "source": [
        "'''\n",
        "Create training dataset.\n",
        "\n",
        "X : (np array) MFCC feature data for each audio clip concatenated\n",
        "\n",
        "y_sp: (np array) speech dataset labels [0]\n",
        "y_mu: (np array) music dataset labels [1]\n",
        "y_si: (np array) silence dataset labels [2]\n",
        "\n",
        "y: (np array) All labels concatenated together\n",
        "'''\n",
        "#features\n",
        "X = np.concatenate((sp_mfcc,mu_mfcc,si_mfcc))\n",
        "\n",
        "#labels\n",
        "y_sp = np.array([0]*sp_mfcc.shape[0])\n",
        "y_mu = np.array([1]*mu_mfcc.shape[0])\n",
        "y_si = np.array([2]*si_mfcc.shape[0])\n",
        "\n",
        "y = np.concatenate((y_sp,y_mu,y_si))\n",
        "\n",
        "print(X.shape)\n",
        "print(y.shape)\n",
        "print(y[:5])"
      ],
      "execution_count": null,
      "outputs": [
        {
          "output_type": "stream",
          "name": "stdout",
          "text": [
            "(9842, 13, 4)\n",
            "(9842,)\n",
            "[0 0 0 0 0]\n"
          ]
        }
      ]
    },
    {
      "cell_type": "code",
      "metadata": {
        "id": "UJC94f1rkx2M"
      },
      "source": [
        "# separate training data for GMM model training\n",
        "X_speech = sp_mfcc\n",
        "X_music = mu_mfcc\n",
        "X_silence = si_mfcc"
      ],
      "execution_count": null,
      "outputs": []
    },
    {
      "cell_type": "code",
      "metadata": {
        "id": "9IE_-JEENDOX"
      },
      "source": [
        "def splitData(X, y, testFraction=0.2, randomize = True):\n",
        "    \"\"\"\n",
        "    Splits the data randomly into training and test sets\n",
        "    Inputs:\n",
        "        X: (np array of len Nclips) input feature vectors\n",
        "        t: (np array of len Nclips) targets; one hot vectors\n",
        "        testFraction: (float) Nclips_test = testFraction * Nclips\n",
        "        randomize: (bool) Randomly split data or in given order\n",
        "    Outputs:\n",
        "        X_train: (np array) training set features\n",
        "        X_test: (np array) test set features\n",
        "        t_train: (np array) training labels\n",
        "        t_test: (np array) test labels\n",
        "    \"\"\"\n",
        "    indices = np.random.permutation(X.shape[0])\n",
        "    n_test = int(testFraction*X.shape[0])\n",
        "    training_idx, test_idx = indices[:-n_test], indices[-n_test:]\n",
        "    X_train = np.array(X[training_idx,:])\n",
        "    X_test = np.array(X[test_idx,:])\n",
        "    y_train = np.array(y[training_idx])\n",
        "    y_test = np.array(y[test_idx])   \n",
        "    \n",
        "    return X_train, y_train, X_test, y_test"
      ],
      "execution_count": null,
      "outputs": []
    },
    {
      "cell_type": "code",
      "metadata": {
        "id": "ORU2AIvYlkyR"
      },
      "source": [
        "X = normalize_linear(X)"
      ],
      "execution_count": 132,
      "outputs": []
    },
    {
      "cell_type": "code",
      "metadata": {
        "colab": {
          "base_uri": "https://localhost:8080/"
        },
        "id": "cfDzbBMAAV38",
        "outputId": "ffaf4554-8573-44f9-d7e2-ad46bda940f1"
      },
      "source": [
        "#Split training data using splitData()\n",
        "X_train, y_train, X_test, y_test = splitData(X,y)\n",
        "\n",
        "print(X_train.shape, y_train.shape, X_test.shape, y_test.shape)"
      ],
      "execution_count": 133,
      "outputs": [
        {
          "output_type": "stream",
          "name": "stdout",
          "text": [
            "(7874, 13, 4) (7874,) (1968, 13, 4) (1968,)\n"
          ]
        }
      ]
    },
    {
      "cell_type": "markdown",
      "metadata": {
        "id": "pRlPl-6_Fko-"
      },
      "source": [
        "---\n",
        "\n",
        "\n",
        "**II. AUDIO CLASSICATION MODELS**<br>\n",
        "\n",
        "\n",
        "1.   Digital Signal Processing(DSP) Method\n",
        "2.   Linear Classifier Model\n",
        "3.   Convolutional Neural Network(CNN) Model\n",
        "4.   Recurrent Neural Network(RNN) Model\n",
        "5.   Gaussian Mixture Model(GMM)\n",
        "\n",
        "\n",
        "\n",
        "\n",
        "---"
      ]
    },
    {
      "cell_type": "markdown",
      "metadata": {
        "id": "JRivegPdBiRA"
      },
      "source": [
        "**1. Digital Signal Processing(DSP) Method**"
      ]
    },
    {
      "cell_type": "code",
      "metadata": {
        "id": "aoGRxPuNk9iY",
        "colab": {
          "base_uri": "https://localhost:8080/"
        },
        "outputId": "7a0405bd-c32e-4e47-b203-d11c177fb7a4"
      },
      "source": [
        "#For the Speech samples\n",
        "samplingFreq = 16000 \n",
        "w0 = 2*np.pi*2000 # pole frequency (rad/s) #2KHz is taken as the cutoff frequency\n",
        "dt = 1.0/samplingFreq \n",
        "\n",
        "# Low-pass filter\n",
        "low_num = np.array([w0*dt/(2+w0*dt),w0*dt/(2+w0*dt)]) #the coefficients of the first order Low-Pass Filter\n",
        "low_denom = np.array([(2-w0*dt)/(2+w0*dt)])\n",
        "Power_low = np.zeros(len(speech))\n",
        "\n",
        "for i in range(speech.shape[0]):\n",
        "    y = speech[i]\n",
        "    # Filter the signal\n",
        "    yfilt_low = np.zeros(len(y))\n",
        "    for j in range(3,len(y)):\n",
        "        yfilt_low[j] = low_denom[0]*yfilt_low[j-1] + low_num[0]*y[j] + low_num[1]*y[j-1] #The Discrete Update\n",
        "    Power_low[i] =  np.sum(np.square(yfilt_low))/len(yfilt_low)\n",
        "\n",
        "#High-Pass Filter\n",
        "high_num = np.array([2/(w0*dt+2),-2/(w0*dt+2)]) #the coefficients of the first order High-Pass Filter\n",
        "high_denom = np.array([(2-w0*dt)/(2+w0*dt)])\n",
        "Power_high = np.zeros(len(speech))\n",
        "\n",
        "for i in range(speech.shape[0]):\n",
        "    y = speech[i]\n",
        "    yfilt_high = np.zeros(len(y))\n",
        "    for j in range(3,len(speech[0])):\n",
        "        yfilt_high[j] = high_denom[0]*yfilt_high[j-1] + high_num[0]*y[j] + high_num[1]*y[j-1]\n",
        "    Power_high[i] = np.sum(np.square(yfilt_high))/len(yfilt_high)\n",
        "\n",
        "\n",
        "\n",
        "#Predictions ; #Ratio Threshold : 10 # a certain ration threshold Speech will have higher value of ratio of (Power through a LPF/Power through a HPF) & Music will have a lower value\n",
        "Ratio = np.zeros(len(speech))\n",
        "for i in range(speech.shape[0]):\n",
        "    if(Power_high[i]!=0):\n",
        "        Ratio[i] = Power_low[i]/Power_high[i]\n",
        "\n",
        "Correct_speech = Ratio>10\n",
        "print(np.sum(Correct_speech))"
      ],
      "execution_count": null,
      "outputs": [
        {
          "output_type": "stream",
          "name": "stdout",
          "text": [
            "2250\n"
          ]
        }
      ]
    },
    {
      "cell_type": "code",
      "metadata": {
        "id": "HrlE1JrCITSV"
      },
      "source": [
        "def normalize_linear(x):\n",
        "  '''\n",
        "  Normalize the dataset\n",
        "  '''\n",
        "  mean = np.mean(x)\n",
        "  std = np.std(x)\n",
        "  x = (x-mean)/std\n",
        "  return x"
      ],
      "execution_count": null,
      "outputs": []
    },
    {
      "cell_type": "code",
      "metadata": {
        "id": "eZPSz4OVk9fA",
        "colab": {
          "base_uri": "https://localhost:8080/"
        },
        "outputId": "e89b8b91-4f9f-49cf-f446-4441d5c7484c"
      },
      "source": [
        "#For the Music Samples\n",
        "samplingFreq = 16000 \n",
        "w0 = 2*np.pi*2000 # pole frequency (rad/s)\n",
        "dt = 1.0/samplingFreq\n",
        "\n",
        "# Low-pass filter\n",
        "low_num = np.array([w0*dt/(2+w0*dt),w0*dt/(2+w0*dt)]) \n",
        "low_denom = np.array([(2-w0*dt)/(2+w0*dt)])\n",
        "Power_low = np.zeros(len(music))\n",
        "\n",
        "for i in range(music.shape[0]):\n",
        "    y = music[i]\n",
        "    # Filter the signal\n",
        "    yfilt_low = np.zeros(len(y))\n",
        "    for j in range(3,len(y)):\n",
        "        yfilt_low[j] = low_denom[0]*yfilt_low[j-1] + low_num[0]*y[j] + low_num[1]*y[j-1]\n",
        "    Power_low[i] =  np.sum(np.square(yfilt_low))/len(yfilt_low)\n",
        "\n",
        "#High-Pass Filter\n",
        "high_num = np.array([2/(w0*dt+2),-2/(w0*dt+2)])\n",
        "high_denom = np.array([(2-w0*dt)/(2+w0*dt)])\n",
        "Power_high = np.zeros(len(music))\n",
        "\n",
        "for i in range(music.shape[0]):\n",
        "    y = music[i]\n",
        "    yfilt_high = np.zeros(len(y))\n",
        "    for j in range(3,len(music[0])):\n",
        "        yfilt_high[j] = high_denom[0]*yfilt_high[j-1] + high_num[0]*y[j] + high_num[1]*y[j-1]\n",
        "    Power_high[i] = np.sum(np.square(yfilt_high))/len(yfilt_high)\n",
        "\n",
        "\n",
        "\n",
        "#Predictions ; #Ratio Threshold : 10\n",
        "Ratio = np.zeros(len(music))\n",
        "for i in range(music.shape[0]):\n",
        "    if(Power_high[i]!=0):\n",
        "        Ratio[i] = Power_low[i]/Power_high[i]\n",
        "\n",
        "Correct_Music = Ratio<10\n",
        "print(np.sum(Correct_Music))"
      ],
      "execution_count": null,
      "outputs": [
        {
          "output_type": "stream",
          "name": "stdout",
          "text": [
            "1773\n"
          ]
        }
      ]
    },
    {
      "cell_type": "code",
      "metadata": {
        "colab": {
          "base_uri": "https://localhost:8080/"
        },
        "id": "i1WmK6MyBsy2",
        "outputId": "6970518b-657c-46d0-fbcb-1466b3674139"
      },
      "source": [
        "Accuracy = (np.sum(Correct_speech) + np.sum(Correct_Music))/(speech.shape[0] + music.shape[0])\n",
        "print(Accuracy*100)"
      ],
      "execution_count": null,
      "outputs": [
        {
          "output_type": "stream",
          "name": "stdout",
          "text": [
            "54.116222760290555\n"
          ]
        }
      ]
    },
    {
      "cell_type": "markdown",
      "metadata": {
        "id": "9Jq7el1BCAee"
      },
      "source": [
        "**2. Linear Classifier Model**"
      ]
    },
    {
      "cell_type": "code",
      "metadata": {
        "id": "gDqmkoDd_8aL"
      },
      "source": [
        "def splitData_linear(X, t, testFraction=0.2, randomize = False):\n",
        "    \"\"\"\n",
        "    Split the data randomly into training and test sets\n",
        "    Use numpy functions only\n",
        "    Inputs:\n",
        "        X: (np array of len Nclips) input feature vectors\n",
        "        t: (np array of len Nclips) targets; one hot vectors\n",
        "        testFraction: (float) Nclips_test = testFraction * Nclips\n",
        "    Outputs:\n",
        "        X_train: training set\n",
        "        X_test: test set\n",
        "        t_train: training labels\n",
        "        t_test: test labels\n",
        "    \"\"\"\n",
        "    combined = np.hstack((X,t))\n",
        "    #print(combined.shape)\n",
        "    if(randomize):  \n",
        "        np.random.shuffle(combined)\n",
        "    t = combined[:,-2:]\n",
        "    X = combined[:,0:combined.shape[1]-2]\n",
        "\n",
        "    train_size_X = int((1-testFraction)*len(X))\n",
        "    X_train = X[0:train_size_X]\n",
        "    t_train = t[0:train_size_X]\n",
        "    X_test = X[train_size_X:]\n",
        "    t_test = t[train_size_X:]\n",
        "\n",
        "    ### WRITE YOUR CODE HERE - 5 MARKS\n",
        "\n",
        "    \n",
        "    return X_train, t_train, X_test, t_test"
      ],
      "execution_count": null,
      "outputs": []
    },
    {
      "cell_type": "code",
      "metadata": {
        "id": "WMRF6GXplMJx",
        "colab": {
          "base_uri": "https://localhost:8080/"
        },
        "outputId": "321187cf-0ec6-4899-c449-128aa675dea9"
      },
      "source": [
        "X_lin = np.concatenate((speech,music))\n",
        "print(X_lin.shape)"
      ],
      "execution_count": null,
      "outputs": [
        {
          "output_type": "stream",
          "name": "stdout",
          "text": [
            "(7434, 1600)\n"
          ]
        }
      ]
    },
    {
      "cell_type": "code",
      "metadata": {
        "id": "oIh2ViaTlMGe",
        "colab": {
          "base_uri": "https://localhost:8080/"
        },
        "outputId": "4ce94a65-45ff-498b-b1b2-a7443593bfa1"
      },
      "source": [
        "Y_lin_music = np.array([[0,1]]*len(music))\n",
        "Y_lin_speech = np.array([[1,0]]*len(speech))\n",
        "Y_lin = np.concatenate((Y_lin_speech,Y_lin_music))\n",
        "print(Y_lin.shape)\n",
        "\n",
        "X_train_lin, y_train_lin, X_test_lin, y_test_lin = splitData_linear(X_lin,Y_lin)\n",
        "print(X_train_lin.shape)\n",
        "print(y_train_lin.shape)"
      ],
      "execution_count": null,
      "outputs": [
        {
          "output_type": "stream",
          "name": "stdout",
          "text": [
            "(7434, 2)\n",
            "(5947, 1600)\n",
            "(5947, 2)\n"
          ]
        }
      ]
    },
    {
      "cell_type": "code",
      "metadata": {
        "id": "nkoLaP2-lMDm"
      },
      "source": [
        "x_train_lin = audio2mfcc(X_train_lin)  "
      ],
      "execution_count": null,
      "outputs": []
    },
    {
      "cell_type": "code",
      "metadata": {
        "id": "DyqrriFslMAi"
      },
      "source": [
        "class Classifier: \n",
        "    '''\n",
        "    Create a linear classifier to classify each frame\n",
        "    '''\n",
        "    def __init__(self):\n",
        "        # defined model parameters here\n",
        "        self.W = np.array([0])\n",
        "        self.b = 0\n",
        "        \n",
        "    def train(self,x_train, y_train):\n",
        "        '''\n",
        "        Train the linear classifier\n",
        "        Inputs:\n",
        "            x_train: training set\n",
        "            y_train: training labels\n",
        "        Output:\n",
        "            None\n",
        "        '''\n",
        "        N_clips = x_train.shape[0]\n",
        "        n_mfcc = x_train[0].shape[0]\n",
        "        N_frames = x_train[0].shape[1]\n",
        "\n",
        "        x_train = normalize_linear(x_train)\n",
        "\n",
        "        self.W = np.zeros((n_mfcc,2))\n",
        "        self.b = 0\n",
        "        learning_rate_aplha = 0.001\n",
        "\n",
        "        for i in range(N_clips):\n",
        "            X = x_train[i]\n",
        "            Y = y_train[i].reshape((2,1))\n",
        "            Y = np.tile(Y,N_frames)\n",
        "            for iter in range(10000):\n",
        "\n",
        "                Z = np.dot(self.W.T,X) + self.b\n",
        "                A = 1/(1 + np.exp(-Z))\n",
        "\n",
        "                cost = -1/N_frames*np.sum(Y*np.log(A) + (1-Y)*np.log(1-A))\n",
        "\n",
        "                dW = (1/N_frames)*np.dot(A-Y,X.T)\n",
        "                db = (1/N_frames)*np.sum(A-Y)\n",
        "\n",
        "                self.W = self.W-learning_rate_aplha*dW.T\n",
        "                self.b = self.b-learning_rate_aplha*db\n",
        "\n",
        "                if(iter%1000==0):\n",
        "                   print(\"cost after \", iter, \"iterations is \", cost)\n",
        "                if(np.isnan(cost)):\n",
        "                    break    \n",
        "            if(cost < 1e-5):\n",
        "                break\n",
        "  \n",
        "        return \n",
        "    \n",
        "    def save_model(self, save_path):\n",
        "        '''\n",
        "        Save the trained model on local disk\n",
        "        Input:\n",
        "            save_path: location at which model is to be saved\n",
        "        Output:\n",
        "            None\n",
        "        '''\n",
        "        np.save(save_path + \"/data.npy\", self.W)\n",
        "            \n",
        "        return\n",
        "    \n",
        "    def load_model(self, load_path):\n",
        "        '''\n",
        "        Save the trained model on local disk\n",
        "        Input:\n",
        "            load_path: location from which model is to be loaded\n",
        "        Output:\n",
        "            None\n",
        "        '''\n",
        "        self.W = np.load(load_path + \"/data.npy\")   \n",
        "        return\n",
        "\n",
        "\n",
        "    \n",
        "    def predict_framewise(self,x_test):\n",
        "        '''\n",
        "        Framewise classification (speech or music)\n",
        "        Input:\n",
        "            x_test: test set\n",
        "        Output:\n",
        "            y_pred_framewise = framewise prediction\n",
        "        '''\n",
        "        N_clips = x_test.shape[0]\n",
        "        n_mfcc = x_test[0].shape[0]\n",
        "        N_frames = x_test[0].shape[1]\n",
        "\n",
        "        Y_pred = []\n",
        "        x_test = normalize(x_test)\n",
        "        for i in range(N_clips):\n",
        "            X = x_test[i]\n",
        "            y_pred = np.dot(self.W.T,X) + self.b\n",
        "            Y_pred.append(y_pred)\n",
        "\n",
        "        Y_pred = np.array(Y_pred)\n",
        "        Y_pred = Y_pred.reshape((N_clips,2,N_frames))\n",
        "\n",
        "        y_pred_framewise = Y_pred    \n",
        "\n",
        "\n",
        "  \n",
        "        return Y_pred\n",
        "    \n",
        "    def predict_aggregate(self,y_pred_framewise):\n",
        "        '''\n",
        "        Aggregate frames to give a single class label (music or speech) to the entire audio file\n",
        "        Input:\n",
        "            y_pred_framewise = framewise prediction\n",
        "        Output:\n",
        "            y_hat = frame aggregate (one-hot vectors)\n",
        "        '''\n",
        "        y_hat = []\n",
        "        N_clips = y_pred_framewise.shape[0]\n",
        "        for i in range(N_clips):\n",
        "            y_pred = y_pred_framewise[i]\n",
        "            y_mean = np.mean(y_pred,axis = 1)\n",
        "            result = np.argmax(y_mean)\n",
        "            if result == 0:\n",
        "                y_hat.append([1,0])\n",
        "            else:\n",
        "                y_hat.append([0,1])\n",
        "        y_hat = np.array(y_hat)\n",
        "        y_hat = y_hat.reshape((N_clips,2))        \n",
        "\n",
        "\n",
        "        return y_hat"
      ],
      "execution_count": null,
      "outputs": []
    },
    {
      "cell_type": "code",
      "metadata": {
        "id": "9OluAm5TCNvl",
        "colab": {
          "base_uri": "https://localhost:8080/"
        },
        "outputId": "50c05884-f803-478f-c372-096be24792da"
      },
      "source": [
        "model = Classifier()\n",
        "model.train(x_train_lin,y_train_lin)"
      ],
      "execution_count": null,
      "outputs": [
        {
          "output_type": "stream",
          "name": "stdout",
          "text": [
            "cost after  0 iterations is  1.3862943611198906\n",
            "cost after  1000 iterations is  0.1757435187671236\n",
            "cost after  2000 iterations is  0.0877925614290124\n",
            "cost after  3000 iterations is  0.05812274207912416\n",
            "cost after  4000 iterations is  0.043364452205012755\n",
            "cost after  5000 iterations is  0.0345607116394822\n",
            "cost after  6000 iterations is  0.028720411652786184\n",
            "cost after  7000 iterations is  0.024565576673855456\n",
            "cost after  8000 iterations is  0.02145974833075065\n",
            "cost after  9000 iterations is  0.019050714976453643\n",
            "cost after  0 iterations is  0.024340469208462143\n",
            "cost after  1000 iterations is  0.021684586782647508\n",
            "cost after  2000 iterations is  0.019552066721337892\n",
            "cost after  3000 iterations is  0.017802189284882475\n",
            "cost after  4000 iterations is  0.016340494560108988\n",
            "cost after  5000 iterations is  0.0151012296432458\n",
            "cost after  6000 iterations is  0.014037219906397322\n",
            "cost after  7000 iterations is  0.013113743877027472\n",
            "cost after  8000 iterations is  0.012304680367828216\n",
            "cost after  9000 iterations is  0.011590002082815284\n",
            "cost after  0 iterations is  0.013919691663212285\n",
            "cost after  1000 iterations is  0.013059982863695686\n",
            "cost after  2000 iterations is  0.012300136252589185\n",
            "cost after  3000 iterations is  0.01162372947103018\n",
            "cost after  4000 iterations is  0.01101775038545039\n",
            "cost after  5000 iterations is  0.01047175625145217\n",
            "cost after  6000 iterations is  0.009977269817121224\n",
            "cost after  7000 iterations is  0.009527338003925748\n",
            "cost after  8000 iterations is  0.009116204319643972\n",
            "cost after  9000 iterations is  0.00873906223263474\n",
            "cost after  0 iterations is  0.003331083113348796\n",
            "cost after  1000 iterations is  0.0032634750550707527\n",
            "cost after  2000 iterations is  0.0031985718492369714\n",
            "cost after  3000 iterations is  0.0031362141040511392\n",
            "cost after  4000 iterations is  0.0030762547180498163\n",
            "cost after  5000 iterations is  0.0030185577175390853\n",
            "cost after  6000 iterations is  0.0029629972235657503\n",
            "cost after  7000 iterations is  0.0029094565318887\n",
            "cost after  8000 iterations is  0.002857827291786791\n",
            "cost after  9000 iterations is  0.002808008771532998\n",
            "cost after  0 iterations is  0.0026197345214553124\n",
            "cost after  1000 iterations is  0.0025780514869903136\n",
            "cost after  2000 iterations is  0.0025376865191313555\n",
            "cost after  3000 iterations is  0.0024985778925885943\n",
            "cost after  4000 iterations is  0.0024606676820474365\n",
            "cost after  5000 iterations is  0.0024239014739694184\n",
            "cost after  6000 iterations is  0.002388228104242852\n",
            "cost after  7000 iterations is  0.0023535994190149387\n",
            "cost after  8000 iterations is  0.002319970056352461\n",
            "cost after  9000 iterations is  0.002287297246641772\n",
            "cost after  0 iterations is  0.0017148904295631055\n",
            "cost after  1000 iterations is  0.0016944105813672702\n",
            "cost after  2000 iterations is  0.0016744146233953364\n",
            "cost after  3000 iterations is  0.001654885602656314\n",
            "cost after  4000 iterations is  0.0016358073489696019\n",
            "cost after  5000 iterations is  0.0016171644302988737\n",
            "cost after  6000 iterations is  0.0015989421111084808\n",
            "cost after  7000 iterations is  0.0015811263135084748\n",
            "cost after  8000 iterations is  0.001563703580971556\n",
            "cost after  9000 iterations is  0.0015466610444260548\n",
            "cost after  0 iterations is  0.0016017275719316325\n",
            "cost after  1000 iterations is  0.0015839366851938806\n",
            "cost after  2000 iterations is  0.0015665367187677002\n",
            "cost after  3000 iterations is  0.0015495149292589362\n",
            "cost after  4000 iterations is  0.001532859121147131\n",
            "cost after  5000 iterations is  0.0015165576176582622\n",
            "cost after  6000 iterations is  0.0015005992334761742\n",
            "cost after  7000 iterations is  0.0014849732491578988\n",
            "cost after  8000 iterations is  0.0014696693871319108\n",
            "cost after  9000 iterations is  0.001454677789163539\n",
            "cost after  0 iterations is  0.0026330635167330007\n",
            "cost after  1000 iterations is  0.002592702383106699\n",
            "cost after  2000 iterations is  0.002553560519461923\n",
            "cost after  3000 iterations is  0.002515583500464191\n",
            "cost after  4000 iterations is  0.002478720092146262\n",
            "cost after  5000 iterations is  0.0024429220213990103\n",
            "cost after  6000 iterations is  0.0024081437651544205\n",
            "cost after  7000 iterations is  0.0023743423573273034\n",
            "cost after  8000 iterations is  0.002341477211792127\n",
            "cost after  9000 iterations is  0.002309509959865905\n",
            "cost after  0 iterations is  0.0020267654784548133\n",
            "cost after  1000 iterations is  0.002004137173400946\n",
            "cost after  2000 iterations is  0.001982013122487289\n",
            "cost after  3000 iterations is  0.0019603766010307683\n",
            "cost after  4000 iterations is  0.0019392116170989164\n",
            "cost after  5000 iterations is  0.0019185028717753432\n",
            "cost after  6000 iterations is  0.0018982357219848281\n",
            "cost after  7000 iterations is  0.001878396145687976\n",
            "cost after  8000 iterations is  0.0018589707092703269\n",
            "cost after  9000 iterations is  0.0018399465369657538\n",
            "cost after  0 iterations is  0.03321741667237116\n",
            "cost after  1000 iterations is  0.03125354608850791\n",
            "cost after  2000 iterations is  0.02950943543043535\n",
            "cost after  3000 iterations is  0.027950157628587265\n",
            "cost after  4000 iterations is  0.026547810787394942\n",
            "cost after  5000 iterations is  0.02527983744202959\n",
            "cost after  6000 iterations is  0.02412780406510392\n",
            "cost after  7000 iterations is  0.023076500269552137\n",
            "cost after  8000 iterations is  0.022113264138435566\n",
            "cost after  9000 iterations is  0.02122747014261612\n",
            "cost after  0 iterations is  0.0037892967643088516\n",
            "cost after  1000 iterations is  0.003737784422113962\n",
            "cost after  2000 iterations is  0.0036876643912107762\n",
            "cost after  3000 iterations is  0.0036388808343954526\n",
            "cost after  4000 iterations is  0.0035913808643170076\n",
            "cost after  5000 iterations is  0.003545114351090988\n",
            "cost after  6000 iterations is  0.0035000337447819285\n",
            "cost after  7000 iterations is  0.0034560939114302233\n",
            "cost after  8000 iterations is  0.003413251981433172\n",
            "cost after  9000 iterations is  0.0033714672092074204\n",
            "cost after  0 iterations is  0.0005162595895816483\n",
            "cost after  1000 iterations is  0.0005145566275617709\n",
            "cost after  2000 iterations is  0.0005128648829548502\n",
            "cost after  3000 iterations is  0.0005111842452271613\n",
            "cost after  4000 iterations is  0.0005095146052927402\n",
            "cost after  5000 iterations is  0.0005078558554899941\n",
            "cost after  6000 iterations is  0.0005062078895585066\n",
            "cost after  7000 iterations is  0.0005045706026160627\n",
            "cost after  8000 iterations is  0.000502943891136372\n",
            "cost after  9000 iterations is  0.0005013276529278169\n",
            "cost after  0 iterations is  0.0008554004158677636\n",
            "cost after  1000 iterations is  0.0008514194608132757\n",
            "cost after  2000 iterations is  0.0008474754923269444\n",
            "cost after  3000 iterations is  0.000843567996779571\n",
            "cost after  4000 iterations is  0.0008396964700144311\n",
            "cost after  5000 iterations is  0.0008358604171288784\n",
            "cost after  6000 iterations is  0.0008320593522631772\n",
            "cost after  7000 iterations is  0.000828292798395258\n",
            "cost after  8000 iterations is  0.0008245602871401182\n",
            "cost after  9000 iterations is  0.0008208613585552269\n",
            "cost after  0 iterations is  0.00022114510220250022\n",
            "cost after  1000 iterations is  0.00022077531767132993\n",
            "cost after  2000 iterations is  0.00022040677011265206\n",
            "cost after  3000 iterations is  0.00022003945332573264\n",
            "cost after  4000 iterations is  0.0002196733611507355\n",
            "cost after  5000 iterations is  0.00021930848746894415\n",
            "cost after  6000 iterations is  0.0002189448262028449\n",
            "cost after  7000 iterations is  0.00021858237131451688\n",
            "cost after  8000 iterations is  0.00021822111680674223\n",
            "cost after  9000 iterations is  0.00021786105672161815\n",
            "cost after  0 iterations is  0.000445630293808505\n",
            "cost after  1000 iterations is  0.0004443466866579322\n",
            "cost after  2000 iterations is  0.00044307046838977765\n",
            "cost after  3000 iterations is  0.000441801575344546\n",
            "cost after  4000 iterations is  0.0004405399445922498\n",
            "cost after  5000 iterations is  0.0004392855139220484\n",
            "cost after  6000 iterations is  0.0004380382218318049\n",
            "cost after  7000 iterations is  0.0004367980075176423\n",
            "cost after  8000 iterations is  0.00043556481086511\n",
            "cost after  9000 iterations is  0.00043433857243843556\n",
            "cost after  0 iterations is  0.0009923979070840144\n",
            "cost after  1000 iterations is  0.0009871666430358106\n",
            "cost after  2000 iterations is  0.0009819902773220736\n",
            "cost after  3000 iterations is  0.0009768679501537432\n",
            "cost after  4000 iterations is  0.0009717988196040498\n",
            "cost after  5000 iterations is  0.0009667820611452139\n",
            "cost after  6000 iterations is  0.0009618168672028243\n",
            "cost after  7000 iterations is  0.0009569024467216463\n",
            "cost after  8000 iterations is  0.0009520380247456095\n",
            "cost after  9000 iterations is  0.0009472228420101957\n",
            "cost after  0 iterations is  0.0008633233857313537\n",
            "cost after  1000 iterations is  0.0008592562892099388\n",
            "cost after  2000 iterations is  0.0008552273517202274\n",
            "cost after  3000 iterations is  0.0008512360386857853\n",
            "cost after  4000 iterations is  0.0008472818254691712\n",
            "cost after  5000 iterations is  0.0008433641971424295\n",
            "cost after  6000 iterations is  0.0008394826482626988\n",
            "cost after  7000 iterations is  0.0008356366826555468\n",
            "cost after  8000 iterations is  0.0008318258132028641\n",
            "cost after  9000 iterations is  0.0008280495616378472\n",
            "cost after  0 iterations is  0.00036308012178044624\n",
            "cost after  1000 iterations is  0.00036219922196802307\n",
            "cost after  2000 iterations is  0.0003613225870409908\n",
            "cost after  3000 iterations is  0.0003604501861002943\n",
            "cost after  4000 iterations is  0.00035958198854480383\n",
            "cost after  5000 iterations is  0.00035871796406764965\n",
            "cost after  6000 iterations is  0.0003578580826525564\n",
            "cost after  7000 iterations is  0.00035700231457028826\n",
            "cost after  8000 iterations is  0.0003561506303756219\n",
            "cost after  9000 iterations is  0.00035530300090359774\n",
            "cost after  0 iterations is  0.0008571398571388943\n",
            "cost after  1000 iterations is  0.0008533630894096563\n",
            "cost after  2000 iterations is  0.000849619649603856\n",
            "cost after  3000 iterations is  0.0008459090976770292\n",
            "cost after  4000 iterations is  0.00084223100130462\n",
            "cost after  5000 iterations is  0.000838584935712997\n",
            "cost after  6000 iterations is  0.0008349704835161952\n",
            "cost after  7000 iterations is  0.0008313872345548025\n",
            "cost after  8000 iterations is  0.0008278347857409616\n",
            "cost after  9000 iterations is  0.0008243127409060993\n",
            "cost after  0 iterations is  0.0002436678498560443\n",
            "cost after  1000 iterations is  0.00024323858213538496\n",
            "cost after  2000 iterations is  0.00024281082579558742\n",
            "cost after  3000 iterations is  0.00024238457286611978\n",
            "cost after  4000 iterations is  0.00024195981543261792\n",
            "cost after  5000 iterations is  0.00024153654563563602\n",
            "cost after  6000 iterations is  0.00024111475567114627\n",
            "cost after  7000 iterations is  0.00024069443778953922\n",
            "cost after  8000 iterations is  0.0002402755842951242\n",
            "cost after  9000 iterations is  0.00023985818754585143\n",
            "cost after  0 iterations is  0.0004554260390436953\n",
            "cost after  1000 iterations is  0.00045414840681977386\n",
            "cost after  2000 iterations is  0.0004528779293537708\n",
            "cost after  3000 iterations is  0.0004516145466978453\n",
            "cost after  4000 iterations is  0.00045035819957213593\n",
            "cost after  5000 iterations is  0.0004491088293554835\n",
            "cost after  6000 iterations is  0.0004478663780762371\n",
            "cost after  7000 iterations is  0.0004466307884033109\n",
            "cost after  8000 iterations is  0.00044540200363735145\n",
            "cost after  9000 iterations is  0.00044417996770212693\n",
            "cost after  0 iterations is  0.0006307893698273108\n",
            "cost after  1000 iterations is  0.0006287901958309951\n",
            "cost after  2000 iterations is  0.0006268037865007183\n",
            "cost after  3000 iterations is  0.0006248300194866852\n",
            "cost after  4000 iterations is  0.0006228687740009262\n",
            "cost after  5000 iterations is  0.0006209199307925257\n",
            "cost after  6000 iterations is  0.000618983372123381\n",
            "cost after  7000 iterations is  0.0006170589817440153\n",
            "cost after  8000 iterations is  0.0006151466448701702\n",
            "cost after  9000 iterations is  0.0006132462481598425\n",
            "cost after  0 iterations is  0.00044374193336421154\n",
            "cost after  1000 iterations is  0.00044256533057469567\n",
            "cost after  2000 iterations is  0.00044139497100836964\n",
            "cost after  3000 iterations is  0.0004402308050527454\n",
            "cost after  4000 iterations is  0.00043907278361939787\n",
            "cost after  5000 iterations is  0.00043792085813754785\n",
            "cost after  6000 iterations is  0.00043677498054772897\n",
            "cost after  7000 iterations is  0.00043563510329412106\n",
            "cost after  8000 iterations is  0.0004345011793186343\n",
            "cost after  9000 iterations is  0.0004333731620542973\n",
            "cost after  0 iterations is  0.0020477681557100093\n",
            "cost after  1000 iterations is  0.0020308219110158777\n",
            "cost after  2000 iterations is  0.002014153950535251\n",
            "cost after  3000 iterations is  0.0019977574754975573\n",
            "cost after  4000 iterations is  0.0019816259067903822\n",
            "cost after  5000 iterations is  0.001965752876160542\n",
            "cost after  6000 iterations is  0.0019501322178342145\n",
            "cost after  7000 iterations is  0.0019347579605341933\n",
            "cost after  8000 iterations is  0.0019196243198714724\n",
            "cost after  9000 iterations is  0.0019047256910909877\n",
            "cost after  0 iterations is  0.0029872090092357088\n",
            "cost after  1000 iterations is  0.0029562700307553193\n",
            "cost after  2000 iterations is  0.0029259670999779116\n",
            "cost after  3000 iterations is  0.0028962807882571794\n",
            "cost after  4000 iterations is  0.0028671924504663736\n",
            "cost after  5000 iterations is  0.002838684185891627\n",
            "cost after  6000 iterations is  0.0028107388014446105\n",
            "cost after  7000 iterations is  0.0027833397770346503\n",
            "cost after  8000 iterations is  0.002756471232954943\n",
            "cost after  9000 iterations is  0.0027301178991480817\n",
            "cost after  0 iterations is  0.0016923281632728615\n",
            "cost after  1000 iterations is  0.001680583720444635\n",
            "cost after  2000 iterations is  0.0016690011203715216\n",
            "cost after  3000 iterations is  0.00165757704130611\n",
            "cost after  4000 iterations is  0.0016463082517708533\n",
            "cost after  5000 iterations is  0.0016351916075117423\n",
            "cost after  6000 iterations is  0.0016242240485765651\n",
            "cost after  7000 iterations is  0.0016134025965080275\n",
            "cost after  8000 iterations is  0.0016027243516496038\n",
            "cost after  9000 iterations is  0.0015921864905565795\n",
            "cost after  0 iterations is  0.005377332550860351\n",
            "cost after  1000 iterations is  0.005296375630339233\n",
            "cost after  2000 iterations is  0.00521781873964294\n",
            "cost after  3000 iterations is  0.005141556776685487\n",
            "cost after  4000 iterations is  0.0050674906848517335\n",
            "cost after  5000 iterations is  0.004995527024669115\n",
            "cost after  6000 iterations is  0.004925577581376141\n",
            "cost after  7000 iterations is  0.004857559004925729\n",
            "cost after  8000 iterations is  0.004791392479339409\n",
            "cost after  9000 iterations is  0.004727003418658379\n",
            "cost after  0 iterations is  0.0012042518947395007\n",
            "cost after  1000 iterations is  0.0011982163463195182\n",
            "cost after  2000 iterations is  0.0011922410679148761\n",
            "cost after  3000 iterations is  0.001186325160962075\n",
            "cost after  4000 iterations is  0.0011804677446733717\n",
            "cost after  5000 iterations is  0.0011746679555995456\n",
            "cost after  6000 iterations is  0.001168924947205073\n",
            "cost after  7000 iterations is  0.0011632378894560966\n",
            "cost after  8000 iterations is  0.0011576059684202467\n",
            "cost after  9000 iterations is  0.0011520283858781682\n",
            "cost after  0 iterations is  0.0007956004002292235\n",
            "cost after  1000 iterations is  0.0007926648380079161\n",
            "cost after  2000 iterations is  0.0007897508593981779\n",
            "cost after  3000 iterations is  0.0007868582272471216\n",
            "cost after  4000 iterations is  0.0007839867078635423\n",
            "cost after  5000 iterations is  0.0007811360709544764\n",
            "cost after  6000 iterations is  0.0007783060895638727\n",
            "cost after  7000 iterations is  0.0007754965400127343\n",
            "cost after  8000 iterations is  0.000772707201839737\n",
            "cost after  9000 iterations is  0.0007699378577433726\n",
            "cost after  0 iterations is  0.0005596904283895863\n",
            "cost after  1000 iterations is  0.0005581312363128332\n",
            "cost after  2000 iterations is  0.0005565807141771086\n",
            "cost after  3000 iterations is  0.0005550387898526012\n",
            "cost after  4000 iterations is  0.0005535053920075544\n",
            "cost after  5000 iterations is  0.0005519804500971535\n",
            "cost after  6000 iterations is  0.0005504638943531091\n",
            "cost after  7000 iterations is  0.0005489556557719894\n",
            "cost after  8000 iterations is  0.0005474556661057753\n",
            "cost after  9000 iterations is  0.0005459638578510263\n",
            "cost after  0 iterations is  0.002237459368711975\n",
            "cost after  1000 iterations is  0.00222017414178026\n",
            "cost after  2000 iterations is  0.002203153806196273\n",
            "cost after  3000 iterations is  0.0021863923212542273\n",
            "cost after  4000 iterations is  0.0021698838284888644\n",
            "cost after  5000 iterations is  0.0021536226448558614\n",
            "cost after  6000 iterations is  0.002137603256216351\n",
            "cost after  7000 iterations is  0.0021218203111091453\n",
            "cost after  8000 iterations is  0.0021062686147971087\n",
            "cost after  9000 iterations is  0.002090943123572043\n",
            "cost after  0 iterations is  0.0024830275754527398\n",
            "cost after  1000 iterations is  0.0024628736848773675\n",
            "cost after  2000 iterations is  0.002443044165570905\n",
            "cost after  3000 iterations is  0.002423531251852654\n",
            "cost after  4000 iterations is  0.0024043274238996033\n",
            "cost after  5000 iterations is  0.002385425398094442\n",
            "cost after  6000 iterations is  0.002366818117826444\n",
            "cost after  7000 iterations is  0.0023484987447176626\n",
            "cost after  8000 iterations is  0.002330460650252506\n",
            "cost after  9000 iterations is  0.002312697407791329\n",
            "cost after  0 iterations is  0.004999455821433237\n",
            "cost after  1000 iterations is  0.004934926476757367\n",
            "cost after  2000 iterations is  0.00487204003676207\n",
            "cost after  3000 iterations is  0.004810734592955427\n",
            "cost after  4000 iterations is  0.004750951307047975\n",
            "cost after  5000 iterations is  0.0046926342230407415\n",
            "cost after  6000 iterations is  0.0046357300929448855\n",
            "cost after  7000 iterations is  0.004580188214989808\n",
            "cost after  8000 iterations is  0.004525960283290472\n",
            "cost after  9000 iterations is  0.004473000248038037\n",
            "cost after  0 iterations is  0.0024481238465524705\n",
            "cost after  1000 iterations is  0.0024294334195416227\n",
            "cost after  2000 iterations is  0.0024110260530333574\n",
            "cost after  3000 iterations is  0.002392895367544081\n",
            "cost after  4000 iterations is  0.0023750351738090706\n",
            "cost after  5000 iterations is  0.0023574394657470883\n",
            "cost after  6000 iterations is  0.002340102413734703\n",
            "cost after  7000 iterations is  0.00232301835817436\n",
            "cost after  8000 iterations is  0.0023061818033422673\n",
            "cost after  9000 iterations is  0.002289587411500654\n",
            "cost after  0 iterations is  0.0027490430376867128\n",
            "cost after  1000 iterations is  0.002727021116827394\n",
            "cost after  2000 iterations is  0.0027053494695621623\n",
            "cost after  3000 iterations is  0.002684019804658407\n",
            "cost after  4000 iterations is  0.0026630240904887545\n",
            "cost after  5000 iterations is  0.0026423545449506154\n",
            "cost after  6000 iterations is  0.0026220036258517605\n",
            "cost after  7000 iterations is  0.002601964021737218\n",
            "cost after  8000 iterations is  0.002582228643133269\n",
            "cost after  9000 iterations is  0.002562790614187664\n",
            "cost after  0 iterations is  0.003292023488348584\n",
            "cost after  1000 iterations is  0.003262922188710414\n",
            "cost after  2000 iterations is  0.0032343310656703537\n",
            "cost after  3000 iterations is  0.003206236821629813\n",
            "cost after  4000 iterations is  0.003178626617053543\n",
            "cost after  5000 iterations is  0.003151488050917991\n",
            "cost after  6000 iterations is  0.0031248091421524817\n",
            "cost after  7000 iterations is  0.0030985783120149844\n",
            "cost after  8000 iterations is  0.003072784367347108\n",
            "cost after  9000 iterations is  0.003047416484659886\n",
            "cost after  0 iterations is  0.004163071141517649\n",
            "cost after  1000 iterations is  0.0041201979544512254\n",
            "cost after  2000 iterations is  0.004078198237116684\n",
            "cost after  3000 iterations is  0.004037045580012557\n",
            "cost after  4000 iterations is  0.003996714627216709\n",
            "cost after  5000 iterations is  0.003957181024383716\n",
            "cost after  6000 iterations is  0.003918421369792505\n",
            "cost after  7000 iterations is  0.003880413168235338\n",
            "cost after  8000 iterations is  0.0038431347875596466\n",
            "cost after  9000 iterations is  0.0038065654176845194\n",
            "cost after  0 iterations is  0.0005987924795793098\n",
            "cost after  1000 iterations is  0.000597348266896271\n",
            "cost after  2000 iterations is  0.0005959110127143339\n",
            "cost after  3000 iterations is  0.0005944806668439909\n",
            "cost after  4000 iterations is  0.0005930571795775689\n",
            "cost after  5000 iterations is  0.0005916405016829229\n",
            "cost after  6000 iterations is  0.0005902305843985742\n",
            "cost after  7000 iterations is  0.0005888273794268485\n",
            "cost after  8000 iterations is  0.0005874308389296247\n",
            "cost after  9000 iterations is  0.0005860409155223063\n",
            "cost after  0 iterations is  0.0003030931357888948\n",
            "cost after  1000 iterations is  0.00030265873163406076\n",
            "cost after  2000 iterations is  0.00030222557181073704\n",
            "cost after  3000 iterations is  0.00030179365097895104\n",
            "cost after  4000 iterations is  0.00030136296382938426\n",
            "cost after  5000 iterations is  0.0003009335050826506\n",
            "cost after  6000 iterations is  0.00030050526948968497\n",
            "cost after  7000 iterations is  0.00030007825183115994\n",
            "cost after  8000 iterations is  0.0002996524469174031\n",
            "cost after  9000 iterations is  0.00029922784958834054\n",
            "cost after  0 iterations is  0.0005236690252361604\n",
            "cost after  1000 iterations is  0.0005225251765972305\n",
            "cost after  2000 iterations is  0.0005213863159212752\n",
            "cost after  3000 iterations is  0.000520252410650198\n",
            "cost after  4000 iterations is  0.0005191234285085043\n",
            "cost after  5000 iterations is  0.0005179993375006627\n",
            "cost after  6000 iterations is  0.0005168801059076883\n",
            "cost after  7000 iterations is  0.000515765702284282\n",
            "cost after  8000 iterations is  0.0005146560954556914\n",
            "cost after  9000 iterations is  0.0005135512545152381\n",
            "cost after  0 iterations is  0.0011745613545823545\n",
            "cost after  1000 iterations is  0.001169878736507039\n",
            "cost after  2000 iterations is  0.001165233299057931\n",
            "cost after  3000 iterations is  0.001160624601229042\n",
            "cost after  4000 iterations is  0.0011560522089602218\n",
            "cost after  5000 iterations is  0.0011515156950015562\n",
            "cost after  6000 iterations is  0.0011470146387797704\n",
            "cost after  7000 iterations is  0.0011425486262687467\n",
            "cost after  8000 iterations is  0.0011381172498622946\n",
            "cost after  9000 iterations is  0.0011337201082505086\n",
            "cost after  0 iterations is  0.002144239942253122\n",
            "cost after  1000 iterations is  0.0021312658096642274\n",
            "cost after  2000 iterations is  0.0021184477171522255\n",
            "cost after  3000 iterations is  0.002105782867107218\n",
            "cost after  4000 iterations is  0.002093268528386103\n",
            "cost after  5000 iterations is  0.002080902034350748\n",
            "cost after  6000 iterations is  0.002068680780974904\n",
            "cost after  7000 iterations is  0.002056602225017993\n",
            "cost after  8000 iterations is  0.002044663882261565\n",
            "cost after  9000 iterations is  0.0020328633258075027\n",
            "cost after  0 iterations is  0.002048158442535669\n",
            "cost after  1000 iterations is  0.0020362535000119073\n",
            "cost after  2000 iterations is  0.002024486115590079\n",
            "cost after  3000 iterations is  0.002012853919409016\n",
            "cost after  4000 iterations is  0.0020013545957228525\n",
            "cost after  5000 iterations is  0.0019899858813655718\n",
            "cost after  6000 iterations is  0.001978745564266777\n",
            "cost after  7000 iterations is  0.001967631482019298\n",
            "cost after  8000 iterations is  0.0019566415204919814\n",
            "cost after  9000 iterations is  0.0019457736124912479\n",
            "cost after  0 iterations is  0.001279059896275488\n",
            "cost after  1000 iterations is  0.0012738937032432656\n",
            "cost after  2000 iterations is  0.001268769088453136\n",
            "cost after  3000 iterations is  0.0012636855519748027\n",
            "cost after  4000 iterations is  0.0012586426018604776\n",
            "cost after  5000 iterations is  0.0012536397539859774\n",
            "cost after  6000 iterations is  0.0012486765318960192\n",
            "cost after  7000 iterations is  0.001243752466652633\n",
            "cost after  8000 iterations is  0.0012388670966881922\n",
            "cost after  9000 iterations is  0.0012340199676603614\n",
            "cost after  0 iterations is  0.002435076300252416\n",
            "cost after  1000 iterations is  0.002419509901332207\n",
            "cost after  2000 iterations is  0.002404141173084974\n",
            "cost after  3000 iterations is  0.002388966375329332\n",
            "cost after  4000 iterations is  0.002373981861626233\n",
            "cost after  5000 iterations is  0.0023591840763614903\n",
            "cost after  6000 iterations is  0.0023445695519353593\n",
            "cost after  7000 iterations is  0.0023301349060568617\n",
            "cost after  8000 iterations is  0.0023158768391372177\n",
            "cost after  9000 iterations is  0.0023017921317775624\n",
            "cost after  0 iterations is  0.0018713414800708688\n",
            "cost after  1000 iterations is  0.001861646956589211\n",
            "cost after  2000 iterations is  0.0018520523393013375\n",
            "cost after  3000 iterations is  0.0018425560921016151\n",
            "cost after  4000 iterations is  0.0018331567102093664\n",
            "cost after  5000 iterations is  0.0018238527193743504\n",
            "cost after  6000 iterations is  0.0018146426751062773\n",
            "cost after  7000 iterations is  0.0018055251619283489\n",
            "cost after  8000 iterations is  0.0017964987926516337\n",
            "cost after  9000 iterations is  0.0017875622076733563\n",
            "cost after  0 iterations is  0.0011451728881583432\n",
            "cost after  1000 iterations is  0.0011411202473612012\n",
            "cost after  2000 iterations is  0.0011370962221927004\n",
            "cost after  3000 iterations is  0.001133100510548405\n",
            "cost after  4000 iterations is  0.001129132814561575\n",
            "cost after  5000 iterations is  0.0011251928405298698\n",
            "cost after  6000 iterations is  0.0011212802988424414\n",
            "cost after  7000 iterations is  0.0011173949039085022\n",
            "cost after  8000 iterations is  0.0011135363740888142\n",
            "cost after  9000 iterations is  0.001109704431626507\n",
            "cost after  0 iterations is  0.00279524246565221\n",
            "cost after  1000 iterations is  0.0027765942888165846\n",
            "cost after  2000 iterations is  0.002758193353925074\n",
            "cost after  3000 iterations is  0.002740034777029004\n",
            "cost after  4000 iterations is  0.00272211380195049\n",
            "cost after  5000 iterations is  0.0027044257961310837\n",
            "cost after  6000 iterations is  0.002686966246643099\n",
            "cost after  7000 iterations is  0.0026697307563523327\n",
            "cost after  8000 iterations is  0.0026527150402297006\n",
            "cost after  9000 iterations is  0.0026359149218009403\n",
            "cost after  0 iterations is  0.0025044672520273645\n",
            "cost after  1000 iterations is  0.002489247530330683\n",
            "cost after  2000 iterations is  0.002474211903886204\n",
            "cost after  3000 iterations is  0.002459357051900944\n",
            "cost after  4000 iterations is  0.0024446797329739246\n",
            "cost after  5000 iterations is  0.0024301767827377353\n",
            "cost after  6000 iterations is  0.0024158451115842174\n",
            "cost after  7000 iterations is  0.002401681702469135\n",
            "cost after  8000 iterations is  0.002387683608795025\n",
            "cost after  9000 iterations is  0.002373847952366512\n",
            "cost after  0 iterations is  0.002501477168034949\n",
            "cost after  1000 iterations is  0.002486593401645941\n",
            "cost after  2000 iterations is  0.0024718857178789313\n",
            "cost after  3000 iterations is  0.0024573510109466056\n",
            "cost after  4000 iterations is  0.0024429862476615712\n",
            "cost after  5000 iterations is  0.0024287884653280307\n",
            "cost after  6000 iterations is  0.002414754769705609\n",
            "cost after  7000 iterations is  0.002400882333044698\n",
            "cost after  8000 iterations is  0.0023871683921876073\n",
            "cost after  9000 iterations is  0.0023736102467354246\n",
            "cost after  0 iterations is  0.009018523949913367\n",
            "cost after  1000 iterations is  0.008891962913132389\n",
            "cost after  2000 iterations is  0.0087688992923168\n",
            "cost after  3000 iterations is  0.008649190266709888\n",
            "cost after  4000 iterations is  0.008532700680137721\n",
            "cost after  5000 iterations is  0.008419302534047705\n",
            "cost after  6000 iterations is  0.008308874520235907\n",
            "cost after  7000 iterations is  0.008201301589684983\n",
            "cost after  8000 iterations is  0.008096474554302712\n",
            "cost after  9000 iterations is  0.00799428971866638\n",
            "cost after  0 iterations is  0.0018751436960486988\n",
            "cost after  1000 iterations is  0.0018668637306353461\n",
            "cost after  2000 iterations is  0.0018586568350100515\n",
            "cost after  3000 iterations is  0.0018505220450351506\n",
            "cost after  4000 iterations is  0.0018424584134698906\n",
            "cost after  5000 iterations is  0.0018344650096017978\n",
            "cost after  6000 iterations is  0.0018265409188875164\n",
            "cost after  7000 iterations is  0.001818685242603285\n",
            "cost after  8000 iterations is  0.0018108970975041628\n",
            "cost after  9000 iterations is  0.0018031756154921951\n",
            "cost after  0 iterations is  0.00012991452771580567\n",
            "cost after  1000 iterations is  0.00012983958543168032\n",
            "cost after  2000 iterations is  0.00012976472984355054\n",
            "cost after  3000 iterations is  0.00012968996080109485\n",
            "cost after  4000 iterations is  0.0001296152781539919\n",
            "cost after  5000 iterations is  0.00012954068175258647\n",
            "cost after  6000 iterations is  0.00012946617144730677\n",
            "cost after  7000 iterations is  0.00012939174708902513\n",
            "cost after  8000 iterations is  0.00012931740852889148\n",
            "cost after  9000 iterations is  0.000129243155618611\n",
            "cost after  0 iterations is  4.825606046892613e-06\n",
            "cost after  1000 iterations is  4.825418859093489e-06\n",
            "cost after  2000 iterations is  4.825231685949386e-06\n",
            "cost after  3000 iterations is  4.825044527266016e-06\n",
            "cost after  4000 iterations is  4.824857383182155e-06\n",
            "cost after  5000 iterations is  4.824670253697804e-06\n",
            "cost after  6000 iterations is  4.824483138701941e-06\n",
            "cost after  7000 iterations is  4.824296038194565e-06\n",
            "cost after  8000 iterations is  4.824108952397722e-06\n",
            "cost after  9000 iterations is  4.823921881089366e-06\n"
          ]
        }
      ]
    },
    {
      "cell_type": "code",
      "metadata": {
        "id": "nFnpZFHNCP_l"
      },
      "source": [
        "x_test_lin = audio2mfcc(X_test_lin) \n",
        "y_pred_lin = model.predict_framewise(x_test_lin)   # y_predict: (Nclips, 2, N_frames)\n",
        "y_hat_lin = model.predict_aggregate(y_pred_lin)    # y_hat: (Nclips, 2)"
      ],
      "execution_count": null,
      "outputs": []
    },
    {
      "cell_type": "code",
      "metadata": {
        "id": "JaAOaOYUCSyr"
      },
      "source": [
        "def computeCM(y, y_hat):\n",
        "    '''\n",
        "    Compute confusion matrix to evaluate your model\n",
        "    Inputs:\n",
        "        y = labels \n",
        "        y_hat = predicted output\n",
        "    Output:\n",
        "        confusion matrix: confusion matrix\n",
        "    '''\n",
        "    classes = np.unique(y)\n",
        "    confusion_matrix = np.zeros((len(classes),len(classes)))\n",
        "    \n",
        "    for i in range(len(classes)):\n",
        "       for j in range(len(classes)):\n",
        "          confusion_matrix[i][j] = np.sum((y == classes[i]) & (y_hat == classes[j]))   \n",
        "\n",
        "    return confusion_matrix "
      ],
      "execution_count": null,
      "outputs": []
    },
    {
      "cell_type": "code",
      "metadata": {
        "id": "QV0-z0HxCUg0",
        "colab": {
          "base_uri": "https://localhost:8080/"
        },
        "outputId": "595bb5fc-54a5-42cf-a8ad-22c2effb080b"
      },
      "source": [
        "confusion_matrix = computeCM(y_test_lin, y_hat_lin) \n",
        "print(confusion_matrix) "
      ],
      "execution_count": null,
      "outputs": [
        {
          "output_type": "stream",
          "name": "stdout",
          "text": [
            "[[   0. 1487.]\n",
            " [1487.    0.]]\n"
          ]
        }
      ]
    },
    {
      "cell_type": "code",
      "metadata": {
        "id": "BAIHaBVxnPwY"
      },
      "source": [
        "model.save_model(\"/content/drive/MyDrive/Training Data - MLSP/Saved Models/Linear_Model/\")\n",
        "np.save('weights.npy',model.W)"
      ],
      "execution_count": 144,
      "outputs": []
    },
    {
      "cell_type": "markdown",
      "metadata": {
        "id": "1AOM9SNMuSMd"
      },
      "source": [
        "**3.   Convolutional Neural Network(CNN) Model**\n"
      ]
    },
    {
      "cell_type": "code",
      "metadata": {
        "colab": {
          "base_uri": "https://localhost:8080/"
        },
        "id": "tu1UAljZuRKf",
        "outputId": "e889c598-595f-40c5-f972-c3c44473f667"
      },
      "source": [
        "#CNN Model \n",
        "input_shape = (13,4)\n",
        "cnn_model = tf.keras.Sequential()\n",
        "cnn_model.add(Conv1D(128,3,activation = 'relu',input_shape = input_shape))\n",
        "cnn_model.add(MaxPooling1D(2))\n",
        "cnn_model.add(Dropout(0.2))\n",
        "cnn_model.add(Flatten())\n",
        "cnn_model.add(Dense(64,activation='relu'))\n",
        "cnn_model.add(Dropout(0.4))\n",
        "cnn_model.add(Dense(3,activation='softmax'))\n",
        "cnn_model.summary()"
      ],
      "execution_count": 134,
      "outputs": [
        {
          "output_type": "stream",
          "name": "stdout",
          "text": [
            "Model: \"sequential_3\"\n",
            "_________________________________________________________________\n",
            " Layer (type)                Output Shape              Param #   \n",
            "=================================================================\n",
            " conv1d_2 (Conv1D)           (None, 11, 128)           1664      \n",
            "                                                                 \n",
            " max_pooling1d_2 (MaxPooling  (None, 5, 128)           0         \n",
            " 1D)                                                             \n",
            "                                                                 \n",
            " dropout_6 (Dropout)         (None, 5, 128)            0         \n",
            "                                                                 \n",
            " flatten_2 (Flatten)         (None, 640)               0         \n",
            "                                                                 \n",
            " dense_6 (Dense)             (None, 64)                41024     \n",
            "                                                                 \n",
            " dropout_7 (Dropout)         (None, 64)                0         \n",
            "                                                                 \n",
            " dense_7 (Dense)             (None, 3)                 195       \n",
            "                                                                 \n",
            "=================================================================\n",
            "Total params: 42,883\n",
            "Trainable params: 42,883\n",
            "Non-trainable params: 0\n",
            "_________________________________________________________________\n"
          ]
        }
      ]
    },
    {
      "cell_type": "code",
      "metadata": {
        "id": "1_OWbvGCxHND"
      },
      "source": [
        "cnn_model.compile(optimizer='adam',loss='SparseCategoricalCrossentropy', metrics=['acc'])\n",
        "\n",
        "my_callbacks = [\n",
        "    tf.keras.callbacks.EarlyStopping(monitor=\"acc\",patience=4),\n",
        "    tf.keras.callbacks.ReduceLROnPlateau(monitor=\"loss\", factor=0.1, patience=3)]"
      ],
      "execution_count": 135,
      "outputs": []
    },
    {
      "cell_type": "code",
      "metadata": {
        "colab": {
          "base_uri": "https://localhost:8080/"
        },
        "id": "u57OYBg4xHxr",
        "outputId": "9644c97a-62d7-4f0f-9f7f-f5ff19faa9d9"
      },
      "source": [
        "history = cnn_model.fit(X_train, y_train, epochs=30, batch_size=4,validation_data=(X_test, y_test),callbacks=my_callbacks)"
      ],
      "execution_count": 136,
      "outputs": [
        {
          "output_type": "stream",
          "name": "stdout",
          "text": [
            "Epoch 1/30\n",
            "1969/1969 [==============================] - 6s 3ms/step - loss: 0.4903 - acc: 0.7339 - val_loss: 0.4190 - val_acc: 0.7688 - lr: 0.0010\n",
            "Epoch 2/30\n",
            "1969/1969 [==============================] - 5s 2ms/step - loss: 0.4055 - acc: 0.7955 - val_loss: 0.3633 - val_acc: 0.8257 - lr: 0.0010\n",
            "Epoch 3/30\n",
            "1969/1969 [==============================] - 5s 2ms/step - loss: 0.3753 - acc: 0.8118 - val_loss: 0.3349 - val_acc: 0.8491 - lr: 0.0010\n",
            "Epoch 4/30\n",
            "1969/1969 [==============================] - 5s 2ms/step - loss: 0.3545 - acc: 0.8330 - val_loss: 0.3154 - val_acc: 0.8674 - lr: 0.0010\n",
            "Epoch 5/30\n",
            "1969/1969 [==============================] - 5s 2ms/step - loss: 0.3330 - acc: 0.8471 - val_loss: 0.3100 - val_acc: 0.8720 - lr: 0.0010\n",
            "Epoch 6/30\n",
            "1969/1969 [==============================] - 5s 3ms/step - loss: 0.3166 - acc: 0.8567 - val_loss: 0.2732 - val_acc: 0.8714 - lr: 0.0010\n",
            "Epoch 7/30\n",
            "1969/1969 [==============================] - 5s 2ms/step - loss: 0.3014 - acc: 0.8659 - val_loss: 0.3143 - val_acc: 0.8562 - lr: 0.0010\n",
            "Epoch 8/30\n",
            "1969/1969 [==============================] - 5s 2ms/step - loss: 0.2907 - acc: 0.8700 - val_loss: 0.2566 - val_acc: 0.8902 - lr: 0.0010\n",
            "Epoch 9/30\n",
            "1969/1969 [==============================] - 5s 2ms/step - loss: 0.2718 - acc: 0.8810 - val_loss: 0.3127 - val_acc: 0.8501 - lr: 0.0010\n",
            "Epoch 10/30\n",
            "1969/1969 [==============================] - 5s 2ms/step - loss: 0.2658 - acc: 0.8875 - val_loss: 0.2437 - val_acc: 0.8897 - lr: 0.0010\n",
            "Epoch 11/30\n",
            "1969/1969 [==============================] - 5s 2ms/step - loss: 0.2574 - acc: 0.8885 - val_loss: 0.2385 - val_acc: 0.9035 - lr: 0.0010\n",
            "Epoch 12/30\n",
            "1969/1969 [==============================] - 5s 2ms/step - loss: 0.2527 - acc: 0.8928 - val_loss: 0.2317 - val_acc: 0.9014 - lr: 0.0010\n",
            "Epoch 13/30\n",
            "1969/1969 [==============================] - 5s 2ms/step - loss: 0.2464 - acc: 0.8964 - val_loss: 0.2094 - val_acc: 0.9177 - lr: 0.0010\n",
            "Epoch 14/30\n",
            "1969/1969 [==============================] - 5s 2ms/step - loss: 0.2420 - acc: 0.8946 - val_loss: 0.2916 - val_acc: 0.8740 - lr: 0.0010\n",
            "Epoch 15/30\n",
            "1969/1969 [==============================] - 5s 2ms/step - loss: 0.2303 - acc: 0.9051 - val_loss: 0.2076 - val_acc: 0.9192 - lr: 0.0010\n",
            "Epoch 16/30\n",
            "1969/1969 [==============================] - 5s 2ms/step - loss: 0.2270 - acc: 0.9031 - val_loss: 0.2192 - val_acc: 0.9085 - lr: 0.0010\n",
            "Epoch 17/30\n",
            "1969/1969 [==============================] - 5s 2ms/step - loss: 0.2261 - acc: 0.9036 - val_loss: 0.2016 - val_acc: 0.9187 - lr: 0.0010\n",
            "Epoch 18/30\n",
            "1969/1969 [==============================] - 5s 2ms/step - loss: 0.2198 - acc: 0.9064 - val_loss: 0.1938 - val_acc: 0.9223 - lr: 0.0010\n",
            "Epoch 19/30\n",
            "1969/1969 [==============================] - 5s 2ms/step - loss: 0.2151 - acc: 0.9061 - val_loss: 0.2294 - val_acc: 0.9009 - lr: 0.0010\n",
            "Epoch 20/30\n",
            "1969/1969 [==============================] - 5s 2ms/step - loss: 0.2145 - acc: 0.9084 - val_loss: 0.2095 - val_acc: 0.9233 - lr: 0.0010\n",
            "Epoch 21/30\n",
            "1969/1969 [==============================] - 5s 2ms/step - loss: 0.2035 - acc: 0.9100 - val_loss: 0.1930 - val_acc: 0.9294 - lr: 0.0010\n",
            "Epoch 22/30\n",
            "1969/1969 [==============================] - 5s 2ms/step - loss: 0.2150 - acc: 0.9128 - val_loss: 0.1930 - val_acc: 0.9289 - lr: 0.0010\n",
            "Epoch 23/30\n",
            "1969/1969 [==============================] - 5s 2ms/step - loss: 0.2011 - acc: 0.9177 - val_loss: 0.1950 - val_acc: 0.9217 - lr: 0.0010\n",
            "Epoch 24/30\n",
            "1969/1969 [==============================] - 5s 2ms/step - loss: 0.2027 - acc: 0.9110 - val_loss: 0.1888 - val_acc: 0.9228 - lr: 0.0010\n",
            "Epoch 25/30\n",
            "1969/1969 [==============================] - 5s 2ms/step - loss: 0.1913 - acc: 0.9208 - val_loss: 0.1771 - val_acc: 0.9355 - lr: 0.0010\n",
            "Epoch 26/30\n",
            "1969/1969 [==============================] - 5s 2ms/step - loss: 0.1962 - acc: 0.9181 - val_loss: 0.1810 - val_acc: 0.9324 - lr: 0.0010\n",
            "Epoch 27/30\n",
            "1969/1969 [==============================] - 5s 2ms/step - loss: 0.1936 - acc: 0.9219 - val_loss: 0.2019 - val_acc: 0.9207 - lr: 0.0010\n",
            "Epoch 28/30\n",
            "1969/1969 [==============================] - 5s 2ms/step - loss: 0.1886 - acc: 0.9225 - val_loss: 0.1944 - val_acc: 0.9177 - lr: 0.0010\n",
            "Epoch 29/30\n",
            "1969/1969 [==============================] - 5s 2ms/step - loss: 0.1983 - acc: 0.9177 - val_loss: 0.1778 - val_acc: 0.9314 - lr: 0.0010\n",
            "Epoch 30/30\n",
            "1969/1969 [==============================] - 5s 2ms/step - loss: 0.1878 - acc: 0.9178 - val_loss: 0.2031 - val_acc: 0.9263 - lr: 0.0010\n"
          ]
        }
      ]
    },
    {
      "cell_type": "code",
      "metadata": {
        "colab": {
          "base_uri": "https://localhost:8080/",
          "height": 350
        },
        "id": "pOsdciDQ673z",
        "outputId": "7d9f52c9-fe6c-493c-9ff7-ebb2f5ecb917"
      },
      "source": [
        "#plot accuracy vs epochs and loss vs epochs \n",
        "hist = history.history\n",
        "\n",
        "tr_loss = hist['loss']\n",
        "tr_acc = hist['acc']\n",
        "val_loss = hist['val_loss']\n",
        "val_acc = hist['val_acc']\n",
        "iterations = range(len(hist['loss']))\n",
        "\n",
        "fig,ax = plt.subplots(nrows = 2,figsize=(10,5))\n",
        "ax[0].plot(iterations,tr_loss,'g-',label='Training Loss')\n",
        "ax[0].plot(iterations,val_loss,'b-',label='Validation Loss')\n",
        "ax[0].set_xlabel('Epochs')\n",
        "ax[0].set_ylabel('Loss')\n",
        "ax[0].set_title('Training vs Validation Loss')\n",
        "ax[0].legend()\n",
        "\n",
        "ax[1].plot(iterations,tr_acc,'g-',label='Training Accuracy')\n",
        "ax[1].plot(iterations,val_acc,'b-',label='Validation Accuracy')\n",
        "ax[1].set_xlabel('Epochs')\n",
        "ax[1].set_ylabel('Accuracy')\n",
        "ax[1].set_title('Training vs Validation Accuracy')\n",
        "ax[1].legend()\n",
        "plt.show()"
      ],
      "execution_count": 137,
      "outputs": [
        {
          "output_type": "display_data",
          "data": {
            "image/png": "[encoded data removed]",
            "text/plain": [
              "<Figure size 720x360 with 2 Axes>"
            ]
          },
          "metadata": {
            "needs_background": "light"
          }
        }
      ]
    },
    {
      "cell_type": "code",
      "metadata": {
        "colab": {
          "base_uri": "https://localhost:8080/"
        },
        "id": "vHJoK-z6qv3g",
        "outputId": "4afab957-cac4-4237-daee-7b08f55b1e29"
      },
      "source": [
        "#save models\n",
        "cnn_model.save('/content/drive/MyDrive/Training Data - MLSP/Saved Models/CNN/final_model/')\n",
        "cnn_model.save('/content/drive/MyDrive/Training Data - MLSP/Saved Models/CNN/final_model/cnn_model.h5')"
      ],
      "execution_count": 138,
      "outputs": [
        {
          "output_type": "stream",
          "name": "stdout",
          "text": [
            "INFO:tensorflow:Assets written to: /content/drive/MyDrive/Training Data - MLSP/Saved Models/CNN/final_model/assets\n"
          ]
        },
        {
          "output_type": "stream",
          "name": "stderr",
          "text": [
            "INFO:tensorflow:Assets written to: /content/drive/MyDrive/Training Data - MLSP/Saved Models/CNN/final_model/assets\n"
          ]
        }
      ]
    },
    {
      "cell_type": "markdown",
      "metadata": {
        "id": "O_GaDNewf9yO"
      },
      "source": [
        "**4. Recurrent Neural Network(RNN) Model**"
      ]
    },
    {
      "cell_type": "code",
      "metadata": {
        "colab": {
          "base_uri": "https://localhost:8080/"
        },
        "id": "-j7QblnfQ-yo",
        "outputId": "53b65960-7347-4ccc-bbec-bf1f713a0507"
      },
      "source": [
        "#RNN model\n",
        "input_shape = (13,4)\n",
        "rnn_model = tf.keras.Sequential()\n",
        "rnn_model.add(LSTM(32,input_shape = input_shape))\n",
        "rnn_model.add(Dropout(0.3))\n",
        "rnn_model.add(Dense(64,activation='relu'))\n",
        "rnn_model.add(Dropout(0.4))\n",
        "rnn_model.add(Dense(3,activation='softmax'))\n",
        "rnn_model.summary()"
      ],
      "execution_count": 145,
      "outputs": [
        {
          "output_type": "stream",
          "name": "stdout",
          "text": [
            "Model: \"sequential_4\"\n",
            "_________________________________________________________________\n",
            " Layer (type)                Output Shape              Param #   \n",
            "=================================================================\n",
            " lstm_1 (LSTM)               (None, 32)                4736      \n",
            "                                                                 \n",
            " dropout_8 (Dropout)         (None, 32)                0         \n",
            "                                                                 \n",
            " dense_8 (Dense)             (None, 64)                2112      \n",
            "                                                                 \n",
            " dropout_9 (Dropout)         (None, 64)                0         \n",
            "                                                                 \n",
            " dense_9 (Dense)             (None, 3)                 195       \n",
            "                                                                 \n",
            "=================================================================\n",
            "Total params: 7,043\n",
            "Trainable params: 7,043\n",
            "Non-trainable params: 0\n",
            "_________________________________________________________________\n"
          ]
        }
      ]
    },
    {
      "cell_type": "code",
      "metadata": {
        "id": "uG0s3DwPSB86"
      },
      "source": [
        "rnn_model.compile(optimizer='adam',loss='SparseCategoricalCrossentropy', metrics=['acc'])\n",
        "\n",
        "my_callbacks = [\n",
        "    tf.keras.callbacks.EarlyStopping(monitor=\"acc\",patience=5),\n",
        "    tf.keras.callbacks.ReduceLROnPlateau(monitor=\"loss\", factor=0.1, patience=3)]"
      ],
      "execution_count": 146,
      "outputs": []
    },
    {
      "cell_type": "code",
      "metadata": {
        "colab": {
          "base_uri": "https://localhost:8080/"
        },
        "id": "nkDyIaykSTIC",
        "outputId": "5c528bce-4eb0-43d0-afbc-3a9c17709c2a"
      },
      "source": [
        "history = rnn_model.fit(X_train, y_train, epochs=30, batch_size=12,validation_data=(X_test, y_test),callbacks=my_callbacks)"
      ],
      "execution_count": 147,
      "outputs": [
        {
          "output_type": "stream",
          "name": "stdout",
          "text": [
            "Epoch 1/30\n",
            "657/657 [==============================] - 8s 10ms/step - loss: 0.7447 - acc: 0.5714 - val_loss: 0.5757 - val_acc: 0.6479 - lr: 0.0010\n",
            "Epoch 2/30\n",
            "657/657 [==============================] - 6s 8ms/step - loss: 0.5724 - acc: 0.6344 - val_loss: 0.5343 - val_acc: 0.6418 - lr: 0.0010\n",
            "Epoch 3/30\n",
            "657/657 [==============================] - 6s 8ms/step - loss: 0.5492 - acc: 0.6391 - val_loss: 0.5325 - val_acc: 0.6880 - lr: 0.0010\n",
            "Epoch 4/30\n",
            "657/657 [==============================] - 5s 8ms/step - loss: 0.5307 - acc: 0.6638 - val_loss: 0.5081 - val_acc: 0.7134 - lr: 0.0010\n",
            "Epoch 5/30\n",
            "657/657 [==============================] - 5s 8ms/step - loss: 0.5161 - acc: 0.7019 - val_loss: 0.4727 - val_acc: 0.7363 - lr: 0.0010\n",
            "Epoch 6/30\n",
            "657/657 [==============================] - 5s 8ms/step - loss: 0.4924 - acc: 0.7272 - val_loss: 0.4694 - val_acc: 0.7520 - lr: 0.0010\n",
            "Epoch 7/30\n",
            "657/657 [==============================] - 5s 8ms/step - loss: 0.4665 - acc: 0.7596 - val_loss: 0.4588 - val_acc: 0.7713 - lr: 0.0010\n",
            "Epoch 8/30\n",
            "657/657 [==============================] - 5s 8ms/step - loss: 0.4553 - acc: 0.7703 - val_loss: 0.4204 - val_acc: 0.7891 - lr: 0.0010\n",
            "Epoch 9/30\n",
            "657/657 [==============================] - 5s 8ms/step - loss: 0.4364 - acc: 0.7846 - val_loss: 0.3945 - val_acc: 0.8115 - lr: 0.0010\n",
            "Epoch 10/30\n",
            "657/657 [==============================] - 5s 8ms/step - loss: 0.4269 - acc: 0.7945 - val_loss: 0.4119 - val_acc: 0.8039 - lr: 0.0010\n",
            "Epoch 11/30\n",
            "657/657 [==============================] - 6s 9ms/step - loss: 0.4135 - acc: 0.7988 - val_loss: 0.3970 - val_acc: 0.7983 - lr: 0.0010\n",
            "Epoch 12/30\n",
            "657/657 [==============================] - 6s 9ms/step - loss: 0.3990 - acc: 0.8106 - val_loss: 0.3641 - val_acc: 0.8389 - lr: 0.0010\n",
            "Epoch 13/30\n",
            "657/657 [==============================] - 5s 8ms/step - loss: 0.3923 - acc: 0.8122 - val_loss: 0.3962 - val_acc: 0.8288 - lr: 0.0010\n",
            "Epoch 14/30\n",
            "657/657 [==============================] - 5s 8ms/step - loss: 0.3763 - acc: 0.8219 - val_loss: 0.3447 - val_acc: 0.8440 - lr: 0.0010\n",
            "Epoch 15/30\n",
            "657/657 [==============================] - 5s 8ms/step - loss: 0.3728 - acc: 0.8249 - val_loss: 0.3624 - val_acc: 0.8465 - lr: 0.0010\n",
            "Epoch 16/30\n",
            "657/657 [==============================] - 6s 9ms/step - loss: 0.3581 - acc: 0.8325 - val_loss: 0.3407 - val_acc: 0.8506 - lr: 0.0010\n",
            "Epoch 17/30\n",
            "657/657 [==============================] - 5s 8ms/step - loss: 0.3674 - acc: 0.8310 - val_loss: 0.4195 - val_acc: 0.8003 - lr: 0.0010\n",
            "Epoch 18/30\n",
            "657/657 [==============================] - 5s 8ms/step - loss: 0.3569 - acc: 0.8393 - val_loss: 0.3351 - val_acc: 0.8496 - lr: 0.0010\n",
            "Epoch 19/30\n",
            "657/657 [==============================] - 5s 8ms/step - loss: 0.3525 - acc: 0.8393 - val_loss: 0.3577 - val_acc: 0.8303 - lr: 0.0010\n",
            "Epoch 20/30\n",
            "657/657 [==============================] - 5s 8ms/step - loss: 0.3429 - acc: 0.8461 - val_loss: 0.3202 - val_acc: 0.8567 - lr: 0.0010\n",
            "Epoch 21/30\n",
            "657/657 [==============================] - 5s 8ms/step - loss: 0.3404 - acc: 0.8446 - val_loss: 0.3303 - val_acc: 0.8572 - lr: 0.0010\n",
            "Epoch 22/30\n",
            "657/657 [==============================] - 5s 8ms/step - loss: 0.3319 - acc: 0.8461 - val_loss: 0.3253 - val_acc: 0.8450 - lr: 0.0010\n",
            "Epoch 23/30\n",
            "657/657 [==============================] - 5s 8ms/step - loss: 0.3340 - acc: 0.8503 - val_loss: 0.3252 - val_acc: 0.8486 - lr: 0.0010\n",
            "Epoch 24/30\n",
            "657/657 [==============================] - 5s 8ms/step - loss: 0.3238 - acc: 0.8564 - val_loss: 0.3035 - val_acc: 0.8659 - lr: 0.0010\n",
            "Epoch 25/30\n",
            "657/657 [==============================] - 5s 8ms/step - loss: 0.3129 - acc: 0.8627 - val_loss: 0.3206 - val_acc: 0.8598 - lr: 0.0010\n",
            "Epoch 26/30\n",
            "657/657 [==============================] - 5s 8ms/step - loss: 0.3240 - acc: 0.8628 - val_loss: 0.3138 - val_acc: 0.8623 - lr: 0.0010\n",
            "Epoch 27/30\n",
            "657/657 [==============================] - 5s 7ms/step - loss: 0.3092 - acc: 0.8628 - val_loss: 0.2980 - val_acc: 0.8659 - lr: 0.0010\n",
            "Epoch 28/30\n",
            "657/657 [==============================] - 5s 8ms/step - loss: 0.3050 - acc: 0.8707 - val_loss: 0.2946 - val_acc: 0.8796 - lr: 0.0010\n",
            "Epoch 29/30\n",
            "657/657 [==============================] - 6s 8ms/step - loss: 0.2954 - acc: 0.8722 - val_loss: 0.2815 - val_acc: 0.8867 - lr: 0.0010\n",
            "Epoch 30/30\n",
            "657/657 [==============================] - 5s 8ms/step - loss: 0.2894 - acc: 0.8764 - val_loss: 0.2893 - val_acc: 0.8801 - lr: 0.0010\n"
          ]
        }
      ]
    },
    {
      "cell_type": "code",
      "metadata": {
        "id": "asO95yDI-AO2",
        "colab": {
          "base_uri": "https://localhost:8080/",
          "height": 350
        },
        "outputId": "60c32fe3-aaf3-4618-b23b-b901923c4e09"
      },
      "source": [
        "#plot accuracy vs epochs and loss vs epochs\n",
        "hist = history.history\n",
        "\n",
        "tr_loss = hist['loss']\n",
        "tr_accuracy = hist['acc']\n",
        "val_loss = hist['val_loss']\n",
        "val_accuracy = hist['val_acc']\n",
        "iterations = range(len(hist['loss']))\n",
        "\n",
        "fig,ax = plt.subplots(nrows = 2,figsize=(10,5))\n",
        "ax[0].plot(iterations,tr_loss,'g-',label='Training Loss')\n",
        "ax[0].plot(iterations,val_loss,'b-',label='Validation Loss')\n",
        "ax[0].set_xlabel('Epochs')\n",
        "ax[0].set_ylabel('Loss')\n",
        "ax[0].set_title('Training vs Validation Loss')\n",
        "ax[0].legend()\n",
        "\n",
        "ax[1].plot(iterations,tr_accuracy,'g-',label='Training Accuracy')\n",
        "ax[1].plot(iterations,val_accuracy,'b-',label='Validation Accuracy')\n",
        "ax[1].set_xlabel('Epochs')\n",
        "ax[1].set_ylabel('Accuracy')\n",
        "ax[1].set_title('Training vs Validation Accuracy')\n",
        "ax[1].legend()\n",
        "plt.show()"
      ],
      "execution_count": 149,
      "outputs": [
        {
          "output_type": "display_data",
          "data": {
            "image/png": "[encoded data removed]",
            "text/plain": [
              "<Figure size 720x360 with 2 Axes>"
            ]
          },
          "metadata": {
            "needs_background": "light"
          }
        }
      ]
    },
    {
      "cell_type": "code",
      "metadata": {
        "colab": {
          "base_uri": "https://localhost:8080/"
        },
        "id": "4S6LU8f49Lnp",
        "outputId": "40954a5c-1a8d-4ed5-d8c7-73f10991a7cf"
      },
      "source": [
        "#save models\n",
        "rnn_model.save('/content/drive/MyDrive/Training Data - MLSP/Saved Models/RNN/Final/')\n",
        "rnn_model.save('/content/drive/MyDrive/Training Data - MLSP/Saved Models/RNN/Final/rnn_model.h5')"
      ],
      "execution_count": 148,
      "outputs": [
        {
          "output_type": "stream",
          "name": "stderr",
          "text": [
            "WARNING:absl:Found untraced functions such as lstm_cell_6_layer_call_fn, lstm_cell_6_layer_call_and_return_conditional_losses, lstm_cell_6_layer_call_fn, lstm_cell_6_layer_call_and_return_conditional_losses, lstm_cell_6_layer_call_and_return_conditional_losses while saving (showing 5 of 5). These functions will not be directly callable after loading.\n"
          ]
        },
        {
          "output_type": "stream",
          "name": "stdout",
          "text": [
            "INFO:tensorflow:Assets written to: /content/drive/MyDrive/Training Data - MLSP/Saved Models/RNN/Final/assets\n"
          ]
        },
        {
          "output_type": "stream",
          "name": "stderr",
          "text": [
            "INFO:tensorflow:Assets written to: /content/drive/MyDrive/Training Data - MLSP/Saved Models/RNN/Final/assets\n",
            "WARNING:absl:<keras.layers.recurrent.LSTMCell object at 0x7fbaebaca9d0> has the same name 'LSTMCell' as a built-in Keras object. Consider renaming <class 'keras.layers.recurrent.LSTMCell'> to avoid naming conflicts when loading with `tf.keras.models.load_model`. If renaming is not possible, pass the object in the `custom_objects` parameter of the load function.\n"
          ]
        }
      ]
    },
    {
      "cell_type": "markdown",
      "metadata": {
        "id": "NerDO9oqOkZF"
      },
      "source": [
        "**5.   Gaussian Mixture Model(GMM)**"
      ]
    },
    {
      "cell_type": "code",
      "metadata": {
        "id": "J9EoYORnWTxY"
      },
      "source": [
        "def prep_gmm_data(X):\n",
        "  '''\n",
        "  Prepares dataset for training GMM model by using each sample as a single data point\n",
        "  '''\n",
        "  new_data = np.concatenate(X.T,axis = 1).T\n",
        "  return new_data"
      ],
      "execution_count": null,
      "outputs": []
    },
    {
      "cell_type": "code",
      "metadata": {
        "id": "Y4Yd82G1-g_Q",
        "colab": {
          "base_uri": "https://localhost:8080/"
        },
        "outputId": "05ddcf63-b385-41d6-fa8d-3113871bd9d7"
      },
      "source": [
        "S_speech_train = prep_gmm_data(X_speech[:25])\n",
        "S_music_train = prep_gmm_data(X_music[:25])\n",
        "\n",
        "print(S_speech_train.shape)\n",
        "print(S_music_train.shape)"
      ],
      "execution_count": null,
      "outputs": [
        {
          "output_type": "stream",
          "name": "stdout",
          "text": [
            "(100, 13)\n",
            "(100, 13)\n"
          ]
        }
      ]
    },
    {
      "cell_type": "code",
      "metadata": {
        "id": "lzv7nBPgYLkq"
      },
      "source": [
        "class GMM:\n",
        "    '''\n",
        "    Gaussian Mixture Model trained using Expectation Maximization.\n",
        "\n",
        "    Parameters\n",
        "    ----------\n",
        "    n_gm : (int) Number of clusters/mixture components into which the data is partitioned\n",
        "\n",
        "    n_iters : (int) Maximum number of iterations for which EM algorithm runs if not converged\n",
        "\n",
        "    epsilon : (float) Stopping criterion of EM algorithm: If the log-likelihood between two iterations is less than epsilon\n",
        "              EM optimization is said to have converged.\n",
        "\n",
        "    seed : (int) Seed used to initialize the parameters.\n",
        "    '''\n",
        "\n",
        "    def __init__(self, n_gm: int, n_iters: int, epsilon: float, seed: int):\n",
        "        self.n_gm = n_gm\n",
        "        self.n_iters = n_iters\n",
        "        self.epsilon = epsilon\n",
        "        self.seed = seed\n",
        "\n",
        "    def EM_algo_fit(self, X):\n",
        "\n",
        "        # gamma matrix\n",
        "        n_row, n_col = X.shape     \n",
        "        self.gamma = np.zeros((n_row, self.n_gm))\n",
        "\n",
        "        # initialize parameters\n",
        "        np.random.seed(self.seed)\n",
        "        chosen = np.random.choice(n_row, self.n_gm, replace = False)\n",
        "        self.mean_vector = X[chosen]\n",
        "        self.pi = np.full(self.n_gm, 1 / self.n_gm)\n",
        "        \n",
        "        shape = self.n_gm, n_col, n_col\n",
        "        self.covariance_matrix = np.full(shape, np.cov(X, rowvar = False))\n",
        "\n",
        "        log_likelihood = 0\n",
        "        self.converged = False\n",
        "        self.log_likelihood_trace = []      \n",
        "\n",
        "        for i in range(self.n_iters):\n",
        "            log_likelihood_new = self.e_step_fn(X)\n",
        "            self.m_step_fn(X)\n",
        "\n",
        "            if abs(log_likelihood_new - log_likelihood) <= self.epsilon:\n",
        "                self.converged = True\n",
        "                break\n",
        "  \n",
        "            log_likelihood = log_likelihood_new\n",
        "            self.log_likelihood_trace.append(log_likelihood)\n",
        "\n",
        "        return self\n",
        "    \n",
        "    def log_likelihood_fn(self, X):\n",
        "        for k in range(self.n_gm):\n",
        "            prior = self.pi[k]\n",
        "            likelihood = multivariate_normal.pdf(X, self.mean_vector[k], self.covariance_matrix[k])\n",
        "            self.gamma[:, k] = prior * likelihood\n",
        "\n",
        "        return self\n",
        "\n",
        "    def e_step_fn(self, X):\n",
        "        '''\n",
        "        E-step: update parameters \n",
        "\n",
        "        '''\n",
        "        self.log_likelihood_fn(X)\n",
        "        log_likelihood = np.sum(np.log(np.sum(self.gamma, axis = 1)))\n",
        "\n",
        "        # normalize over all possible cluster assignments\n",
        "        self.gamma = self.gamma / self.gamma.sum(axis = 1, keepdims = 1)\n",
        "        return log_likelihood\n",
        "\n",
        "\n",
        "    def m_step_fn(self, X):\n",
        "        '''\n",
        "        M-step: update parameters\n",
        "                \n",
        "        '''\n",
        "        gamma_weights = self.gamma.sum(axis = 0)\n",
        "        \n",
        "        # pi\n",
        "        self.pi = gamma_weights / X.shape[0]\n",
        "\n",
        "        # mean_vector\n",
        "        weighted_sum = np.dot(self.gamma.T, X)\n",
        "        self.mean_vector = weighted_sum / gamma_weights.reshape(-1, 1)\n",
        "        # covariance\n",
        "        for k in range(self.n_gm):\n",
        "            diff = (X - self.mean_vector[k]).T\n",
        "            weighted_sum = np.dot(self.gamma[:, k] * diff, diff.T)\n",
        "            self.covariance_matrix[k] = weighted_sum / gamma_weights[k]\n",
        "            \n",
        "        return self"
      ],
      "execution_count": null,
      "outputs": []
    },
    {
      "cell_type": "code",
      "metadata": {
        "id": "iUV9DN14bVh8"
      },
      "source": [
        "def predict_log_likelihood(S,mean_vector,covariance_matrix,n_gm):\n",
        "  '''\n",
        "  Predicts log-likelihood of a feature vector using mean_vector and covariance_matrix of GMM\n",
        "  Inputs:\n",
        "      S : (np array of shape (Nclips,D,1)) Input features of D dimensions shape \n",
        "      mean_vector: (np array of shape (Nclips,D,1)) Mean vector of GMM model\n",
        "      covariance_matrix: (np array of shape (Nclips,D,D)) Covariance matrix for GMM\n",
        "  Output:\n",
        "      log_likelihood: np array of shape (Nclips,)\n",
        "  '''\n",
        "  log_likelihood = []\n",
        "  for n in range(len(S)):\n",
        "    log_prob = np.log([multivariate_normal.pdf(S[n],mean_vector[k], covariance_matrix[k]) for k in range(n_gm)])        \n",
        "    log_likelihood.append(np.sum(log_prob))\n",
        "\n",
        "  return np.array(log_likelihood)\n",
        "    \n",
        "def gmm_predict_class(sp_prob, mu_prob):\n",
        "  '''\n",
        "  Compute class of audio clip using log likelihood of Speech GMM and Music GMM\n",
        "  Inputs:\n",
        "      sp_prob : (np array) log likelihood from Speech GMM\n",
        "      mu_prob : (np array) log likelihood from Music GMM\n",
        "  Output:\n",
        "      pred : (np array) Class predictions (speech/music)\n",
        "  '''\n",
        "  pred = []\n",
        "  for i in range(len(sp_prob)):\n",
        "    if sp_prob[i]>mu_prob[i]:\n",
        "      pred.append(0)\n",
        "    else:\n",
        "      pred.append(1)\n",
        "  return pred"
      ],
      "execution_count": null,
      "outputs": []
    },
    {
      "cell_type": "code",
      "metadata": {
        "id": "L1qksqp6Yoic"
      },
      "source": [
        "#Speech GMM\n",
        "speech_gmm = GMM(n_gm = 3, n_iters = 1, epsilon = 1e-4, seed = 4)\n",
        "\n",
        "#Music GMM\n",
        "music_gmm = GMM(n_gm = 3, n_iters = 1, epsilon = 1e-4, seed = 4)"
      ],
      "execution_count": null,
      "outputs": []
    },
    {
      "cell_type": "code",
      "metadata": {
        "colab": {
          "base_uri": "https://localhost:8080/"
        },
        "id": "rg2W5D3fY7QG",
        "outputId": "0ba97eed-8caa-4b38-ef92-2027d3fc363b"
      },
      "source": [
        "#Train Speech GMM via EM Algorithm\n",
        "speech_gmm.EM_algo_fit(S_speech_train)\n",
        "\n",
        "#Train Music GMM via EM Algorithm\n",
        "music_gmm.EM_algo_fit(S_music_train)"
      ],
      "execution_count": null,
      "outputs": [
        {
          "output_type": "execute_result",
          "data": {
            "text/plain": [
              "<__main__.GMM at 0x7fbaecf19490>"
            ]
          },
          "metadata": {},
          "execution_count": 97
        }
      ]
    },
    {
      "cell_type": "code",
      "metadata": {
        "colab": {
          "base_uri": "https://localhost:8080/"
        },
        "id": "xV1O39KNaPW5",
        "outputId": "a08864bb-a742-4f73-8981-acc4fd41ba89"
      },
      "source": [
        "print(speech_gmm.mean_vector.shape, music_gmm.mean_vector.shape)\n",
        "print(speech_gmm.covariance_matrix.shape, music_gmm.covariance_matrix.shape)"
      ],
      "execution_count": null,
      "outputs": [
        {
          "output_type": "stream",
          "name": "stdout",
          "text": [
            "(3, 13) (3, 13)\n",
            "(3, 13, 13) (3, 13, 13)\n"
          ]
        }
      ]
    },
    {
      "cell_type": "code",
      "metadata": {
        "id": "9CGYsPca89kc"
      },
      "source": [
        "def save_gmm(gmm, name):\n",
        "    ''' \n",
        "    Save Gaussian mixture model using pickle.\n",
        "    Inputs:\n",
        "        gmm : Gaussian mixture model.\n",
        "        name : (str) filename\n",
        "    '''\n",
        "    filename = name + \".gmm\"\n",
        "    with open(filename, 'wb') as gmm_file:\n",
        "        pickle.dump(gmm, gmm_file)\n",
        "    print (\"%5s %10s\" % (\"SAVING\", filename))"
      ],
      "execution_count": null,
      "outputs": []
    },
    {
      "cell_type": "code",
      "metadata": {
        "colab": {
          "base_uri": "https://localhost:8080/"
        },
        "id": "q_kqtKEimSkq",
        "outputId": "98b58245-3fd3-4d26-c0ff-4087a0a536f5"
      },
      "source": [
        "save_gmm(speech_gmm,\"speech_13\")\n",
        "save_gmm(music_gmm,\"music_13\")"
      ],
      "execution_count": null,
      "outputs": [
        {
          "output_type": "stream",
          "name": "stdout",
          "text": [
            "SAVING speech_13.gmm\n",
            "SAVING music_13.gmm\n"
          ]
        }
      ]
    },
    {
      "cell_type": "code",
      "metadata": {
        "id": "FtlXvlR-cI65"
      },
      "source": [
        "%%bash\n",
        "cp speech_13.gmm \"drive/MyDrive/Training Data - MLSP/Saved Models/GMM/\"\n",
        "cp music_13.gmm \"drive/MyDrive/Training Data - MLSP/Saved Models/GMM/\""
      ],
      "execution_count": null,
      "outputs": []
    },
    {
      "cell_type": "code",
      "metadata": {
        "id": "E7hJZTirmSh3"
      },
      "source": [
        "#Load Speech GMM model\n",
        "sp_gmm_path = \"drive/MyDrive/Training Data - MLSP/Saved Models/GMM/speech_13.gmm\"\n",
        "speech_gmm = pickle.load(open(sp_gmm_path, 'rb'))\n",
        "\n",
        "#Load Music GMM model\n",
        "mu_gmm_path = \"drive/MyDrive/Training Data - MLSP/Saved Models/GMM/music_13.gmm\"\n",
        "music_gmm  = pickle.load(open(mu_gmm_path, 'rb'))"
      ],
      "execution_count": null,
      "outputs": []
    },
    {
      "cell_type": "markdown",
      "metadata": {
        "id": "AKJZ-k9R8XyS"
      },
      "source": [
        "---\n",
        "\n",
        "\n",
        "**III. RESULTS**<br>\n",
        "Obtain predictions on testing data using the five models models\n",
        "\n",
        "\n",
        "---\n"
      ]
    },
    {
      "cell_type": "code",
      "metadata": {
        "id": "H1LoTqNP-h5o"
      },
      "source": [
        "#Load CNN model\n",
        "path_cnn = '/content/drive/MyDrive/Training Data - MLSP/Saved Models/CNN/final_model'\n",
        "cnn_model = tf.keras.models.load_model(path_cnn)\n",
        "\n",
        "#Load RNN model\n",
        "path_rnn = '/content/drive/MyDrive/Training Data - MLSP/Saved Models/RNN/mfcc_13'\n",
        "rnn_model = tf.keras.models.load_model(path_rnn)"
      ],
      "execution_count": 139,
      "outputs": []
    },
    {
      "cell_type": "code",
      "metadata": {
        "id": "jqVhq7vevRef",
        "colab": {
          "base_uri": "https://localhost:8080/"
        },
        "outputId": "b5fbe2dd-d4ae-48bc-a55a-5584d37f2144"
      },
      "source": [
        "'''\n",
        "Read .npy files from spectrograms directory and create dictionary of test_data\n",
        "'''"
      ],
      "execution_count": null,
      "outputs": [
        {
          "output_type": "execute_result",
          "data": {
            "application/vnd.google.colaboratory.intrinsic+json": {
              "type": "string"
            },
            "text/plain": [
              "'\\nRead .npy files from spectrograms directory and create dictionary of test_data\\n'"
            ]
          },
          "metadata": {},
          "execution_count": 104
        }
      ]
    },
    {
      "cell_type": "code",
      "metadata": {
        "id": "Fs0FHEHjm4um",
        "colab": {
          "base_uri": "https://localhost:8080/"
        },
        "outputId": "49a0397b-0922-4f33-a64d-9b679043a660"
      },
      "source": [
        "#read spectrogram from path\n",
        "curr = os.getcwd()\n",
        "path = '/content/drive/MyDrive/Training Data - MLSP/mocktest_set/spectrogram'\n",
        "os.chdir(path)\n",
        "\n",
        "files = glob.glob('*.npy')\n",
        "print(len(files))\n",
        "os.chdir(curr)"
      ],
      "execution_count": null,
      "outputs": [
        {
          "output_type": "stream",
          "name": "stdout",
          "text": [
            "10\n"
          ]
        }
      ]
    },
    {
      "cell_type": "code",
      "metadata": {
        "id": "mVzZcEWXm4r1"
      },
      "source": [
        "def readSpectrogram(infilename):\n",
        "  '''\n",
        "  Reads spectrogram file\n",
        "  Input:\n",
        "      infilename: (str) Input file\n",
        "  Output:\n",
        "      X : (np array) Spectrogram array\n",
        "  '''\n",
        "  X = np.load(infilename)\n",
        "  return X\n",
        "\n",
        "def split_spec(s):\n",
        "  '''\n",
        "  Split spectrogram array into required shape\n",
        "  Input:\n",
        "      s: (np array) Spectrogram array\n",
        "  Output:\n",
        "      s_new_array : (np array) Stack of new spectrogram array of required shape (N, 13, 4)\n",
        "  '''\n",
        "\n",
        "  #indices where to split the spectrogram\n",
        "  indices = np.arange(4,s.shape[1],4)\n",
        "  s_new = np.array_split(s,indices,axis = 1)\n",
        "  N = len(s_new)\n",
        "  #apply padding to unequallly split spectrogram\n",
        "  if s_new[N-1].shape[1]<4:\n",
        "    s_new[N-1] = np.pad(s_new[N-1], [(0,0),(0,4-s_new[N-1].shape[1])])\n",
        "\n",
        "  s_new_array = np.stack(s_new,axis=0)\n",
        "  return np.array(s_new_array)\n",
        "\n",
        "def prep_test_data(files):  \n",
        "  '''\n",
        "  Prepare test dataset by loading the .npy files\n",
        "  Inputs:\n",
        "      files : (list) .npy filenames\n",
        "  Ouput:\n",
        "      test_data \" (dict) keys: filename | value: (np array) Spectrograms\n",
        "  '''\n",
        "  test_data = {}\n",
        "  for f in files:\n",
        "    s = readSpectrogram(os.path.join(path,f))\n",
        "    s_new = split_spec(s)\n",
        "    test_data[f] = s_new\n",
        "  return test_data"
      ],
      "execution_count": null,
      "outputs": []
    },
    {
      "cell_type": "code",
      "metadata": {
        "id": "oGXPTVAS4TIB"
      },
      "source": [
        "def spec2mfcc(S, n_mfcc = 13, Fs = 16000):    \n",
        "    '''\n",
        "    Compute Mel-frequency cepstral coefficients (MFCCs)\n",
        "    Inputs:\n",
        "        S: ((np array) of shape (Nclips,)) spectrograms\n",
        "        Fs: (int) sampling rate in Hz\n",
        "        n_mfcc: (int) number of MFCC features\n",
        "    Output:\n",
        "        X: (np array) MFCC sequence\n",
        "    '''\n",
        "    X = []\n",
        "    for i in range(S.shape[0]):\n",
        "      mfcc = librosa.feature.mfcc(S = S[i], sr = Fs, n_mfcc = n_mfcc)\n",
        "      X.append(mfcc)\n",
        "  \n",
        "    X = np.array(X)   \n",
        "\n",
        "    return X "
      ],
      "execution_count": null,
      "outputs": []
    },
    {
      "cell_type": "code",
      "metadata": {
        "id": "3mi5f6tgm4pC"
      },
      "source": [
        "# generate test data using prep_test_data()\n",
        "test_specs = prep_test_data(files)\n",
        "\n",
        "'''\n",
        "Store test data in form of a dictionary: test_data\n",
        "key: filename\n",
        "value: (np array) MFCC features of each file\n",
        "'''\n",
        "test_data = {}\n",
        "for k, val in test_specs.items():  \n",
        "  x_mfcc = spec2mfcc(val)  \n",
        "  x_t = normalize_linear(x_mfcc)\n",
        "  test_data[k] = x_t"
      ],
      "execution_count": 140,
      "outputs": []
    },
    {
      "cell_type": "code",
      "metadata": {
        "id": "hb37cs4Am4mO",
        "colab": {
          "base_uri": "https://localhost:8080/"
        },
        "outputId": "b196c3f5-2901-46df-fec5-ee0f067a152e"
      },
      "source": [
        "for k, val in test_data.items():\n",
        "  print(\"{} : {}\".format(k,val.shape))"
      ],
      "execution_count": null,
      "outputs": [
        {
          "output_type": "stream",
          "name": "stdout",
          "text": [
            "test_sample-0.npy : (79, 13, 4)\n",
            "test_sample-5.npy : (79, 13, 4)\n",
            "test_sample-4.npy : (79, 13, 4)\n",
            "test_sample-6.npy : (79, 13, 4)\n",
            "test_sample-3.npy : (79, 13, 4)\n",
            "test_sample-7.npy : (79, 13, 4)\n",
            "test_sample-8.npy : (79, 13, 4)\n",
            "test_sample-1.npy : (79, 13, 4)\n",
            "test_sample-2.npy : (79, 13, 4)\n",
            "test_sample-9.npy : (79, 13, 4)\n"
          ]
        }
      ]
    },
    {
      "cell_type": "markdown",
      "metadata": {
        "id": "FesjqonfWEKP"
      },
      "source": [
        "GMM predictions"
      ]
    },
    {
      "cell_type": "code",
      "metadata": {
        "colab": {
          "base_uri": "https://localhost:8080/"
        },
        "id": "2A1g7fxwguQu",
        "outputId": "1a54228b-24a6-453e-843f-443bc78103f0"
      },
      "source": [
        "data = prep_gmm_data(x_t)\n",
        "print(x_t.shape)"
      ],
      "execution_count": null,
      "outputs": [
        {
          "output_type": "stream",
          "name": "stdout",
          "text": [
            "(79, 13, 4)\n"
          ]
        }
      ]
    },
    {
      "cell_type": "code",
      "metadata": {
        "colab": {
          "base_uri": "https://localhost:8080/"
        },
        "id": "xpgbft8Xn9I7",
        "outputId": "f802292b-6e5d-499d-89bc-df8238f3adfb"
      },
      "source": [
        "sp_prob = predict_log_likelihood(data,speech_gmm.mean_vector,speech_gmm.covariance_matrix,3)\n",
        "mu_prob = predict_log_likelihood(data,music_gmm.mean_vector,music_gmm.covariance_matrix,3)\n",
        "\n",
        "print(sp_prob.shape)\n",
        "print(mu_prob.shape)"
      ],
      "execution_count": null,
      "outputs": [
        {
          "output_type": "stream",
          "name": "stderr",
          "text": [
            "/usr/local/lib/python3.7/dist-packages/ipykernel_launcher.py:13: RuntimeWarning: divide by zero encountered in log\n",
            "  del sys.path[0]\n"
          ]
        },
        {
          "output_type": "stream",
          "name": "stdout",
          "text": [
            "(316,)\n",
            "(316,)\n"
          ]
        }
      ]
    },
    {
      "cell_type": "code",
      "metadata": {
        "colab": {
          "base_uri": "https://localhost:8080/"
        },
        "id": "5OkItNzSo20l",
        "outputId": "aecdb9f5-2afd-47ab-c910-cb81da10710f"
      },
      "source": [
        "pred_class = gmm_predict_class(sp_prob,mu_prob)\n",
        "print(pred_class)"
      ],
      "execution_count": null,
      "outputs": [
        {
          "output_type": "stream",
          "name": "stdout",
          "text": [
            "[1, 1, 1, 1, 1, 1, 1, 1, 1, 1, 1, 1, 1, 1, 1, 1, 1, 1, 1, 1, 1, 1, 1, 1, 1, 1, 1, 1, 1, 1, 1, 1, 1, 1, 1, 1, 1, 1, 1, 1, 1, 1, 1, 1, 1, 1, 1, 1, 1, 1, 1, 1, 1, 1, 1, 1, 1, 1, 1, 1, 1, 1, 1, 1, 1, 1, 1, 1, 1, 1, 1, 1, 1, 1, 1, 1, 1, 1, 1, 1, 1, 1, 1, 1, 1, 1, 1, 1, 1, 1, 1, 1, 1, 1, 1, 1, 1, 1, 1, 1, 1, 1, 1, 1, 1, 1, 1, 1, 1, 1, 1, 1, 1, 1, 1, 1, 1, 1, 1, 1, 1, 1, 1, 1, 1, 1, 1, 1, 1, 1, 1, 1, 1, 1, 1, 1, 1, 1, 1, 1, 1, 1, 1, 1, 1, 1, 1, 1, 1, 1, 1, 1, 1, 1, 1, 1, 1, 1, 1, 1, 1, 1, 1, 1, 1, 1, 1, 1, 1, 1, 1, 1, 1, 1, 1, 1, 1, 1, 1, 1, 1, 1, 1, 1, 1, 1, 1, 1, 1, 1, 1, 1, 1, 1, 1, 1, 1, 1, 1, 1, 1, 1, 1, 1, 1, 1, 1, 1, 1, 1, 1, 1, 1, 1, 1, 1, 1, 1, 1, 1, 1, 1, 1, 1, 1, 1, 1, 1, 1, 1, 1, 1, 1, 1, 1, 1, 1, 1, 1, 1, 1, 1, 1, 1, 1, 1, 1, 1, 1, 1, 1, 1, 1, 1, 1, 1, 1, 1, 1, 1, 1, 1, 1, 1, 1, 1, 1, 1, 1, 1, 1, 1, 1, 1, 1, 1, 1, 1, 1, 1, 1, 1, 1, 1, 1, 1, 1, 1, 1, 1, 1, 1, 1, 1, 1, 1, 1, 1, 1, 1, 1, 1, 1, 1, 1, 1, 1, 1, 1, 1, 1, 1, 1, 1, 1, 1]\n"
          ]
        }
      ]
    },
    {
      "cell_type": "markdown",
      "metadata": {
        "id": "SOWkoQOUWLd2"
      },
      "source": [
        "CNN and RNN predictions"
      ]
    },
    {
      "cell_type": "code",
      "metadata": {
        "id": "PY_ylSbPiIMJ"
      },
      "source": [
        "#Apply erosion and dilation on predicted labels \n",
        "def erosion(X, margin = 3):\n",
        "  '''\n",
        "  Erosion function\n",
        "  Inputs:\n",
        "      X: (np array) predicted labels {0:speech, 1:music, 2:silence}\n",
        "      margin:(int) window over which erosion is applied\n",
        "  Ouput:\n",
        "      X_new: (np array) labels after applying erosion\n",
        "  '''\n",
        "  X_new = np.zeros(len(X))\n",
        "  for i in range(margin, len(X)-margin-1):\n",
        "    X_new[i-margin] = int(min(X[i-margin:i+margin]))\n",
        "  return X_new\n",
        "\n",
        "def dilation(X, margin = 3):\n",
        "  '''\n",
        "  Dilation function\n",
        "  Inputs:\n",
        "      X: (np array) predicted labels {0:speech, 1:music, 2:silence}\n",
        "      margin:(int) window over which dilation is applied\n",
        "  Ouput:\n",
        "      X_new: (np array) labels after applying dilation\n",
        "  '''\n",
        "  X_new = np.zeros(len(X))\n",
        "  for i in range(margin, len(X)-margin-1):\n",
        "    X_new[i-margin] = int(max(X[i-margin:i+margin]))\n",
        "  return X_new"
      ],
      "execution_count": null,
      "outputs": []
    },
    {
      "cell_type": "code",
      "metadata": {
        "id": "HJg28VaDEcNE"
      },
      "source": [
        "#apply erosion + dilation on predicted labels\n",
        "\n",
        "#erosion\n",
        "y_pred_cnn_er = erosion(y_cnn_pred)\n",
        "#dilation\n",
        "y_pred_cnn_di = dilation(y_cnn_pred)\n",
        "#erosion->dilation\n",
        "y_pred_cnn_er_di = dilation(y_pred_cnn_er)\n",
        "#dilation->erosion\n",
        "y_pred_cnn_di_er = erosion(y_pred_cnn_di)"
      ],
      "execution_count": null,
      "outputs": []
    },
    {
      "cell_type": "code",
      "metadata": {
        "id": "jm4c1FIZ5mbL"
      },
      "source": [
        "'''\n",
        "y_pred_dict (dict) predictions for each file\n",
        "key: (str) filename\n",
        "value: (np array) predicted labels\n",
        "'''\n",
        "y_pred_dict = {}\n",
        "for k,val in test_data.items():\n",
        "  y_cnn_pred = np.argmax(cnn_model.predict(val),axis=1)\n",
        "  y_pred_dict[k] = y_cnn_pred"
      ],
      "execution_count": 141,
      "outputs": []
    },
    {
      "cell_type": "code",
      "metadata": {
        "colab": {
          "base_uri": "https://localhost:8080/"
        },
        "id": "8ZfcjpUT5mYE",
        "outputId": "7f17a974-2d07-4316-8374-6c0e2f1ab4fe"
      },
      "source": [
        "for k, val in y_pred_dict.items():\n",
        "  print(\"{} : {}\".format(k,val))"
      ],
      "execution_count": 142,
      "outputs": [
        {
          "output_type": "stream",
          "name": "stdout",
          "text": [
            "test_sample-0.npy : [0 0 1 1 1 1 1 1 1 0 1 1 1 1 1 1 1 0 1 1 1 1 1 1 1 1 1 1 1 1 1 1 1 1 1 1 1\n",
            " 1 1 1 1 1 1 1 1 1 1 1 0 1 1 1 1 0 1 1 0 1 1 1 1 1 1 1 1 1 0 0 0 0 1 0 0 1\n",
            " 1 1 0 0 0]\n",
            "test_sample-5.npy : [1 1 1 1 1 1 1 1 1 1 1 1 1 1 1 1 1 1 1 1 1 1 1 1 1 1 1 1 1 1 1 1 1 1 1 1 1\n",
            " 1 1 1 1 1 1 1 1 1 1 1 1 1 1 1 1 1 1 1 1 1 1 1 1 1 1 1 1 1 1 1 1 1 1 1 1 0\n",
            " 0 1 1 1 0]\n",
            "test_sample-4.npy : [1 1 1 1 1 1 1 1 1 1 1 1 1 1 1 1 1 1 1 1 1 1 1 1 1 1 1 1 1 1 1 1 1 1 1 1 1\n",
            " 1 1 1 1 1 1 1 1 1 1 1 1 1 1 1 1 1 1 1 1 1 1 1 1 1 1 1 1 1 1 1 1 1 1 0 0 1\n",
            " 0 0 1 0 0]\n",
            "test_sample-6.npy : [1 1 1 1 1 1 1 1 1 1 1 1 1 1 1 1 1 1 1 1 1 1 1 1 1 1 1 1 1 1 1 1 1 1 1 1 1\n",
            " 1 1 1 1 1 1 1 1 1 1 1 1 1 1 1 1 1 1 1 1 1 1 1 1 1 1 1 1 1 1 1 1 1 1 1 1 1\n",
            " 0 0 1 0 0]\n",
            "test_sample-3.npy : [1 1 1 1 1 1 1 1 1 1 1 1 1 1 1 1 1 1 1 1 1 1 1 1 1 1 1 1 1 1 1 1 1 1 1 1 1\n",
            " 1 1 1 1 1 1 1 1 1 1 1 1 1 1 1 1 1 1 1 1 1 1 1 1 1 1 1 1 1 1 1 1 1 1 0 0 1\n",
            " 0 0 1 1 0]\n",
            "test_sample-7.npy : [1 1 1 1 1 1 1 1 1 1 1 1 1 1 1 1 1 1 1 1 1 1 1 1 1 1 1 1 1 1 1 1 1 1 1 1 1\n",
            " 1 1 1 1 1 1 1 1 1 1 1 1 1 1 1 1 1 1 1 1 1 1 1 1 1 1 1 1 1 1 1 1 1 1 1 1 1\n",
            " 1 1 1 1 0]\n",
            "test_sample-8.npy : [1 1 1 1 1 1 1 1 1 1 1 1 1 1 1 1 1 1 1 1 1 1 1 1 1 1 1 1 1 1 1 1 1 1 1 1 1\n",
            " 1 1 1 1 1 1 1 1 1 1 1 1 1 1 1 1 1 1 1 1 1 1 1 1 1 1 1 1 1 1 1 1 1 1 1 0 1\n",
            " 0 0 1 0 1]\n",
            "test_sample-1.npy : [1 1 1 1 1 1 1 1 1 1 1 1 1 1 1 1 1 1 1 1 1 1 1 1 1 1 1 1 1 1 1 1 1 1 1 1 1\n",
            " 1 1 1 1 1 1 1 1 1 1 1 1 1 1 1 1 1 1 1 1 1 1 1 1 1 1 1 1 1 1 1 1 1 0 0 0 1\n",
            " 0 1 0 1 0]\n",
            "test_sample-2.npy : [1 1 1 1 1 1 1 1 1 1 1 1 1 0 0 1 1 0 1 1 1 1 1 1 1 1 1 1 1 1 1 1 0 0 1 1 1\n",
            " 1 0 1 1 1 1 1 1 1 1 1 1 1 1 1 1 1 1 0 1 1 1 1 1 1 1 1 1 1 1 1 0 1 1 1 1 1\n",
            " 1 1 1 0 0]\n",
            "test_sample-9.npy : [0 0 0 0 1 0 1 1 1 1 1 1 1 0 1 0 0 0 0 0 0 0 0 0 0 0 0 0 1 1 0 1 0 0 0 0 1\n",
            " 1 1 0 1 0 1 1 0 0 1 0 1 0 1 0 0 0 1 1 1 1 1 1 1 1 0 0 0 0 1 1 0 1 1 1 0 0\n",
            " 0 0 1 0 0]\n"
          ]
        }
      ]
    },
    {
      "cell_type": "markdown",
      "metadata": {
        "id": "ZYOVSAHxIHIG"
      },
      "source": [
        "---\n",
        "\n",
        "\n",
        "**TASK 1: Audio Event Detection**\n",
        "\n",
        "\n",
        "---\n",
        "\n"
      ]
    },
    {
      "cell_type": "code",
      "metadata": {
        "id": "kcxDA91AiIBX"
      },
      "source": [
        "#dictionary of labels used for training model\n",
        "event_dict = {0:'speech',1:'music',2:'silence'}\n",
        "\n",
        "def audio_event_detection(filename,y_pred, frame_size = 0.1, threshold = 3):\n",
        "  '''\n",
        "  Returns timestamps for each event in an audio file\n",
        "  Inputs:\n",
        "      filename: (str) audio file name\n",
        "      y_pred: (np array) predictions from CNN model\n",
        "      frame_size: (int) time length of each audio frame in seconds\n",
        "      thresholds: (int) no of consecutive frames to consider for combining\n",
        "  Ouput:\n",
        "      events: (list) final timestamps\n",
        "  '''\n",
        "  events = []\n",
        "  i = 0\n",
        "  n = 0\n",
        "  ctr = 0\n",
        "  while i<len(y_pred):\n",
        "    while i+n<len(y_pred) and y_pred[i]==y_pred[i+n]:\n",
        "      n = n+1\n",
        "    if i+n == len(y_pred):\n",
        "      start = i*frame_size\n",
        "      end = (i+n)*frame_size\n",
        "      events.append([filename,event_dict[y_pred[i]],start,end])\n",
        "      i = i+n\n",
        "      n = 0\n",
        "      ctr = 0\n",
        "\n",
        "    while i+n+ctr<len(y_pred) and y_pred[i+n]==y_pred[i+n+ctr]:\n",
        "      ctr = ctr+1\n",
        "    if ctr<threshold:\n",
        "      n = n+1\n",
        "    else:\n",
        "      start = i*frame_size\n",
        "      end = (i+n)*frame_size\n",
        "      events.append([filename,event_dict[y_pred[i]],start,end])\n",
        "      i = i+n\n",
        "      n = 0\n",
        "      ctr = 0\n",
        "  \n",
        "  return events"
      ],
      "execution_count": null,
      "outputs": []
    },
    {
      "cell_type": "code",
      "metadata": {
        "id": "0l8CAfhKFG8S"
      },
      "source": [
        "#create csv file for audio event detection\n",
        "csv_file = open(\"mocktest_sed.csv\",mode = 'a',encoding='utf8')\n",
        "header = ['filename','event','onset','offset']\n",
        "csv_writer = writer(csv_file)\n",
        "csv_writer.writerow(header)\n",
        "\n",
        "for k in sorted(y_pred_dict):\n",
        "  name = k.split('.')[0]\n",
        "  pred = audio_event_detection(name,y_pred_dict[k])\n",
        "  csv_writer.writerows(pred)\n",
        "\n",
        "csv_file.close()"
      ],
      "execution_count": null,
      "outputs": []
    },
    {
      "cell_type": "markdown",
      "metadata": {
        "id": "m58VNyODIOpC"
      },
      "source": [
        "\n",
        "\n",
        "---\n",
        "\n",
        "\n",
        "**TASK 2: Audio Tagging**\n",
        "\n",
        "---\n",
        "\n"
      ]
    },
    {
      "cell_type": "code",
      "metadata": {
        "colab": {
          "base_uri": "https://localhost:8080/"
        },
        "id": "t8mQG_pwUtA9",
        "outputId": "db8cd199-9963-4a99-9736-bd6cfb9cdba6"
      },
      "source": [
        "ctr = 0\n",
        "for k, val in y_pred_dict.items():\n",
        "  ctr = ctr+1\n",
        "  print(\"{} : {}\".format(k,val))\n",
        "  if ctr%2==0:\n",
        "    break"
      ],
      "execution_count": null,
      "outputs": [
        {
          "output_type": "stream",
          "name": "stdout",
          "text": [
            "music_noisy1.npy : [1 1 1 1 1 0 1 1 1 1 1 1 1 1 1 1 1 1 1 1 1 1 1 1 1 1 1 1 0 1 1 1 1 1 1 1 1\n",
            " 1 1 1 1 1 1 1 1 1 1 1 1 1 1 1 1 1 1 1 1 1 1 1 1 1 1 1 1 1 1 1 1 1 1 0 1 1\n",
            " 1 1 1 1 0]\n",
            "music_noisy10.npy : [0 1 0 0 0 1 0 1 1 0 1 1 1 0 0 0 1 0 0 0 0 0 0 1 1 1 1 1 1 1 1 0 1 1 1 0 0\n",
            " 0 1 1 0 0 0 0 1 0 0 1 1 1 1 0 1 0 1 1 1 1 0 0 0 1 1 1 0 0 0 0 0 1 1 1 1 1\n",
            " 1 0 0 0 0]\n"
          ]
        }
      ]
    },
    {
      "cell_type": "code",
      "metadata": {
        "id": "hUC6rgN1zowp"
      },
      "source": [
        "'''\n",
        "Tags in order (Music, Speech)\n",
        "Only music : [1 0]\n",
        "Only speech : [0 1]\n",
        "Music + Speech : [1 1]\n",
        "'''\n",
        "def percent_speech_n_music(y_pred_dict):\n",
        "  tags = {}\n",
        "  for k,val in y_pred_dict.items():\n",
        "    name = k.split('.')[0]\n",
        "    total = len(val)\n",
        "    unique, cnts = np.unique(val, return_counts=True)\n",
        "    if 0 in unique:\n",
        "      sp_cnt = cnts[0]\n",
        "    else:\n",
        "      sp_cnt = 0\n",
        "    if 1 in unique:\n",
        "      mu_cnt = cnts[1]\n",
        "    else:\n",
        "      mu_cnt = 0 \n",
        "    if 2 in unique:\n",
        "      si_cnt = cnts[2]\n",
        "    else:\n",
        "      si_cnt = 0\n",
        "\n",
        "    per = [mu_cnt/total, sp_cnt/total, si_cnt/total]\n",
        "    tags[name] = per\n",
        "  \n",
        "  return tags\n",
        "\n",
        "tags= percent_speech_n_music(y_pred_dict)"
      ],
      "execution_count": null,
      "outputs": []
    },
    {
      "cell_type": "code",
      "metadata": {
        "id": "sq1E5n2N37v3"
      },
      "source": [
        "def audio_tag_gen(tags):  \n",
        "  '''\n",
        "  Tags audio files as containing only speech, onlu music or both speech and music\n",
        "  '''\n",
        "  audio_tag = []\n",
        "  thresh_1 = 0.1\n",
        "  for k, val in tags.items():\n",
        "    dif = abs(val[0]-val[1])\n",
        "    if dif<=thresh_1:\n",
        "      event = [k,1,1]\n",
        "    else:\n",
        "      if val[0]>val[1]:\n",
        "        event = [k,1,0]\n",
        "      else:\n",
        "        event = [k,0,1]\n",
        "    audio_tag.append(event)\n",
        "\n",
        "  return audio_tag"
      ],
      "execution_count": null,
      "outputs": []
    },
    {
      "cell_type": "code",
      "metadata": {
        "id": "AobEklRL4O2U"
      },
      "source": [
        "#create csv file for audio tagging task\n",
        "audio_tag = audio_tag_gen(tags)\n",
        "\n",
        "csv_file = open(\"test_tag_6.csv\",mode = 'a',encoding='utf8')\n",
        "header = ['filename','Music','Speech']\n",
        "csv_writer = writer(csv_file)\n",
        "csv_writer.writerow(header)\n",
        "csv_writer.writerows(audio_tag)\n",
        "csv_file.close()"
      ],
      "execution_count": null,
      "outputs": []
    },
    {
      "cell_type": "code",
      "metadata": {
        "id": "RfxsQB2XHtAh"
      },
      "source": [
        "'''\n",
        "Visulaize the predictions of model using bar graph\n",
        "'''"
      ],
      "execution_count": null,
      "outputs": []
    },
    {
      "cell_type": "code",
      "metadata": {
        "colab": {
          "base_uri": "https://localhost:8080/",
          "height": 207
        },
        "id": "ADC3K5nc6oM4",
        "outputId": "f5ea9746-6518-449f-d97c-4fcb835250d7"
      },
      "source": [
        "# set width of bar\n",
        "barWidth = 0.15\n",
        "fig = plt.subplots(figsize =(50, 8))\n",
        " \n",
        "# Set position of bar on X axis\n",
        "br1 = np.arange(len(m))\n",
        "br2 = [x + barWidth for x in br1]\n",
        "br3 = [x + barWidth for x in br2]\n",
        " \n",
        "# Make the plot\n",
        "plt.bar(br1, m, color ='r', width = barWidth,\n",
        "        edgecolor ='grey', label ='music')\n",
        "plt.bar(br2, sp, color ='g', width = barWidth,\n",
        "        edgecolor ='grey', label ='speech')\n",
        "plt.bar(br3, si, color ='b', width = barWidth,\n",
        "        edgecolor ='grey', label ='silence')\n",
        " \n",
        "# Adding Xticks\n",
        "plt.xlabel('filename', fontweight ='bold', fontsize = 15)\n",
        "plt.ylabel('percentage', fontweight ='bold', fontsize = 15)\n",
        "plt.xticks([r + barWidth for r in range(len(m))],n)\n",
        " \n",
        "plt.legend()\n",
        "plt.show()"
      ],
      "execution_count": null,
      "outputs": [
        {
          "output_type": "display_data",
          "data": {
            "image/png": "[encoded data removed]",
            "text/plain": [
              "<Figure size 3600x576 with 1 Axes>"
            ]
          },
          "metadata": {
            "needs_background": "light"
          }
        }
      ]
    },
    {
      "cell_type": "code",
      "metadata": {
        "colab": {
          "base_uri": "https://localhost:8080/",
          "height": 179
        },
        "id": "8nSA523Z6oKS",
        "outputId": "d2bba9ab-7c0e-4aab-a4b8-62ab7594c656"
      },
      "source": [
        "plt.figure(figsize =(50, 7))\n",
        "plt.bar(n,r)\n",
        "plt.show()"
      ],
      "execution_count": null,
      "outputs": [
        {
          "output_type": "display_data",
          "data": {
            "image/png": "[encoded data removed]",
            "text/plain": [
              "<Figure size 3600x504 with 1 Axes>"
            ]
          },
          "metadata": {
            "needs_background": "light"
          }
        }
      ]
    },
    {
      "cell_type": "code",
      "metadata": {
        "colab": {
          "base_uri": "https://localhost:8080/"
        },
        "id": "r6szJe4_-7zV",
        "outputId": "f86ab382-0d50-4750-9849-fc0e9f53b000"
      },
      "source": [
        "music_noisy = [np.max(r[:7]),np.min(r[:7])]\n",
        "music_speech = [np.max(r[7:19]),np.min(r[7:19])]\n",
        "speech = [np.max(r[21:]),np.min(r[21:])]\n",
        "\n",
        "print(\"outliers: music_noisy:{}, speech:{}\".format(r[20],r[19]))\n",
        "\n",
        "print(music_noisy,music_speech,speech)"
      ],
      "execution_count": null,
      "outputs": [
        {
          "output_type": "stream",
          "name": "stdout",
          "text": [
            "outliers: music_noisy:2.590909090909091, speech:0.1285714285714286\n",
            "[18.75, 0.6458333333333333] [6.1818181818181825, 0.5490196078431373] [0.29508196721311475, 0.0821917808219178]\n"
          ]
        }
      ]
    }
  ]
}